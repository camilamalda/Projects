{
  "cells": [
    {
      "cell_type": "markdown",
      "metadata": {
        "id": "view-in-github",
        "colab_type": "text"
      },
      "source": [
        "<a href=\"https://colab.research.google.com/github/camilamalda/Projects/blob/main/neural_network_task.ipynb\" target=\"_parent\"><img src=\"https://colab.research.google.com/assets/colab-badge.svg\" alt=\"Open In Colab\"/></a>"
      ]
    },
    {
      "cell_type": "markdown",
      "metadata": {
        "id": "TNAql86lxg9I"
      },
      "source": [
        "# Capstone Project: Slogan Classifier and Generator\n",
        "\n",
        "In this capstone project you will train a Long Short-Term Memory (LSTM) model to generate slogans for businesses based on their industry, and also train a classifier to predict the industry based on a given slogan."
      ]
    },
    {
      "cell_type": "markdown",
      "metadata": {
        "id": "td69Y5r_xkW0"
      },
      "source": [
        "##Libraries\n",
        "We recommend running this notebook using [Google Colab](https://colab.google/) however if you choose to use your local machine you will need to install spaCy before starting.\n",
        "\n",
        "To install spaCy, refer to the installation instructions provided on the spaCy [website](https://spacy.io/usage). Note you may need to install an older version of Python that is compatible with spaCy. You can create a virtual environment for this project to install the specific version of Python that you need."
      ]
    },
    {
      "cell_type": "code",
      "execution_count": 1,
      "metadata": {
        "id": "x2Y2Lln9xmyq"
      },
      "outputs": [],
      "source": [
        "import pandas as pd\n",
        "import numpy as np\n",
        "import tensorflow as tf\n",
        "from tensorflow.keras.preprocessing.text import Tokenizer\n",
        "from tensorflow.keras.preprocessing.sequence import pad_sequences\n",
        "from tensorflow.keras.models import Sequential\n",
        "from tensorflow.keras.layers import Embedding, LSTM, Dense\n",
        "from tensorflow.keras.optimizers import Adam\n",
        "import spacy # available on Google Colab\n",
        "from sklearn.model_selection import train_test_split"
      ]
    },
    {
      "cell_type": "markdown",
      "metadata": {
        "id": "QGyPef-Yxq8B"
      },
      "source": [
        "## Loading and viewing the dataset\n",
        "\n",
        "- Load the slogan dataset into a variable called data.\n",
        "- Extract relevant columns in a variable called df.\n",
        "- Handle missing values.\n",
        "\n",
        "Do **not** change the column names.\n",
        "\n",
        "If you are using Google Colab you will need mount your Google Drive as follows:  \n",
        "`from google.colab import drive`  \n",
        "`drive.mount('/content/drive')`  \n",
        "\n",
        "The path you use when loading your data will look something like this if you are using your Google Drive:  \n",
        "\"/content/drive/MyDrive/Colab Notebooks/slogan-valid.csv\""
      ]
    },
    {
      "cell_type": "code",
      "execution_count": 2,
      "metadata": {
        "colab": {
          "base_uri": "https://localhost:8080/",
          "height": 224
        },
        "id": "eFlrt7twxyLJ",
        "outputId": "087910ee-5b80-4677-d13d-46cdcb0ea4fa"
      },
      "outputs": [
        {
          "output_type": "stream",
          "name": "stdout",
          "text": [
            "Mounted at /content/drive\n"
          ]
        },
        {
          "output_type": "execute_result",
          "data": {
            "text/plain": [
              "                       industry  \\\n",
              "0             computer hardware   \n",
              "1  health, wellness and fitness   \n",
              "2                      internet   \n",
              "3                      internet   \n",
              "4            financial services   \n",
              "\n",
              "                                              output  \n",
              "0           Taking Care of Small Business Technology  \n",
              "1              Build World-Class Recreation Programs  \n",
              "2  Most Powerful Lead Generation Software for Mar...  \n",
              "3              Hire quality freelancers for your job  \n",
              "4                Financial Advisers Norwich, Norfolk  "
            ],
            "text/html": [
              "\n",
              "  <div id=\"df-7a01a815-89b7-4762-8430-132eede5be9d\" class=\"colab-df-container\">\n",
              "    <div>\n",
              "<style scoped>\n",
              "    .dataframe tbody tr th:only-of-type {\n",
              "        vertical-align: middle;\n",
              "    }\n",
              "\n",
              "    .dataframe tbody tr th {\n",
              "        vertical-align: top;\n",
              "    }\n",
              "\n",
              "    .dataframe thead th {\n",
              "        text-align: right;\n",
              "    }\n",
              "</style>\n",
              "<table border=\"1\" class=\"dataframe\">\n",
              "  <thead>\n",
              "    <tr style=\"text-align: right;\">\n",
              "      <th></th>\n",
              "      <th>industry</th>\n",
              "      <th>output</th>\n",
              "    </tr>\n",
              "  </thead>\n",
              "  <tbody>\n",
              "    <tr>\n",
              "      <th>0</th>\n",
              "      <td>computer hardware</td>\n",
              "      <td>Taking Care of Small Business Technology</td>\n",
              "    </tr>\n",
              "    <tr>\n",
              "      <th>1</th>\n",
              "      <td>health, wellness and fitness</td>\n",
              "      <td>Build World-Class Recreation Programs</td>\n",
              "    </tr>\n",
              "    <tr>\n",
              "      <th>2</th>\n",
              "      <td>internet</td>\n",
              "      <td>Most Powerful Lead Generation Software for Mar...</td>\n",
              "    </tr>\n",
              "    <tr>\n",
              "      <th>3</th>\n",
              "      <td>internet</td>\n",
              "      <td>Hire quality freelancers for your job</td>\n",
              "    </tr>\n",
              "    <tr>\n",
              "      <th>4</th>\n",
              "      <td>financial services</td>\n",
              "      <td>Financial Advisers Norwich, Norfolk</td>\n",
              "    </tr>\n",
              "  </tbody>\n",
              "</table>\n",
              "</div>\n",
              "    <div class=\"colab-df-buttons\">\n",
              "\n",
              "  <div class=\"colab-df-container\">\n",
              "    <button class=\"colab-df-convert\" onclick=\"convertToInteractive('df-7a01a815-89b7-4762-8430-132eede5be9d')\"\n",
              "            title=\"Convert this dataframe to an interactive table.\"\n",
              "            style=\"display:none;\">\n",
              "\n",
              "  <svg xmlns=\"http://www.w3.org/2000/svg\" height=\"24px\" viewBox=\"0 -960 960 960\">\n",
              "    <path d=\"M120-120v-720h720v720H120Zm60-500h600v-160H180v160Zm220 220h160v-160H400v160Zm0 220h160v-160H400v160ZM180-400h160v-160H180v160Zm440 0h160v-160H620v160ZM180-180h160v-160H180v160Zm440 0h160v-160H620v160Z\"/>\n",
              "  </svg>\n",
              "    </button>\n",
              "\n",
              "  <style>\n",
              "    .colab-df-container {\n",
              "      display:flex;\n",
              "      gap: 12px;\n",
              "    }\n",
              "\n",
              "    .colab-df-convert {\n",
              "      background-color: #E8F0FE;\n",
              "      border: none;\n",
              "      border-radius: 50%;\n",
              "      cursor: pointer;\n",
              "      display: none;\n",
              "      fill: #1967D2;\n",
              "      height: 32px;\n",
              "      padding: 0 0 0 0;\n",
              "      width: 32px;\n",
              "    }\n",
              "\n",
              "    .colab-df-convert:hover {\n",
              "      background-color: #E2EBFA;\n",
              "      box-shadow: 0px 1px 2px rgba(60, 64, 67, 0.3), 0px 1px 3px 1px rgba(60, 64, 67, 0.15);\n",
              "      fill: #174EA6;\n",
              "    }\n",
              "\n",
              "    .colab-df-buttons div {\n",
              "      margin-bottom: 4px;\n",
              "    }\n",
              "\n",
              "    [theme=dark] .colab-df-convert {\n",
              "      background-color: #3B4455;\n",
              "      fill: #D2E3FC;\n",
              "    }\n",
              "\n",
              "    [theme=dark] .colab-df-convert:hover {\n",
              "      background-color: #434B5C;\n",
              "      box-shadow: 0px 1px 3px 1px rgba(0, 0, 0, 0.15);\n",
              "      filter: drop-shadow(0px 1px 2px rgba(0, 0, 0, 0.3));\n",
              "      fill: #FFFFFF;\n",
              "    }\n",
              "  </style>\n",
              "\n",
              "    <script>\n",
              "      const buttonEl =\n",
              "        document.querySelector('#df-7a01a815-89b7-4762-8430-132eede5be9d button.colab-df-convert');\n",
              "      buttonEl.style.display =\n",
              "        google.colab.kernel.accessAllowed ? 'block' : 'none';\n",
              "\n",
              "      async function convertToInteractive(key) {\n",
              "        const element = document.querySelector('#df-7a01a815-89b7-4762-8430-132eede5be9d');\n",
              "        const dataTable =\n",
              "          await google.colab.kernel.invokeFunction('convertToInteractive',\n",
              "                                                    [key], {});\n",
              "        if (!dataTable) return;\n",
              "\n",
              "        const docLinkHtml = 'Like what you see? Visit the ' +\n",
              "          '<a target=\"_blank\" href=https://colab.research.google.com/notebooks/data_table.ipynb>data table notebook</a>'\n",
              "          + ' to learn more about interactive tables.';\n",
              "        element.innerHTML = '';\n",
              "        dataTable['output_type'] = 'display_data';\n",
              "        await google.colab.output.renderOutput(dataTable, element);\n",
              "        const docLink = document.createElement('div');\n",
              "        docLink.innerHTML = docLinkHtml;\n",
              "        element.appendChild(docLink);\n",
              "      }\n",
              "    </script>\n",
              "  </div>\n",
              "\n",
              "\n",
              "    <div id=\"df-1e385593-ffe0-4f27-8424-78c28e88d5db\">\n",
              "      <button class=\"colab-df-quickchart\" onclick=\"quickchart('df-1e385593-ffe0-4f27-8424-78c28e88d5db')\"\n",
              "                title=\"Suggest charts\"\n",
              "                style=\"display:none;\">\n",
              "\n",
              "<svg xmlns=\"http://www.w3.org/2000/svg\" height=\"24px\"viewBox=\"0 0 24 24\"\n",
              "     width=\"24px\">\n",
              "    <g>\n",
              "        <path d=\"M19 3H5c-1.1 0-2 .9-2 2v14c0 1.1.9 2 2 2h14c1.1 0 2-.9 2-2V5c0-1.1-.9-2-2-2zM9 17H7v-7h2v7zm4 0h-2V7h2v10zm4 0h-2v-4h2v4z\"/>\n",
              "    </g>\n",
              "</svg>\n",
              "      </button>\n",
              "\n",
              "<style>\n",
              "  .colab-df-quickchart {\n",
              "      --bg-color: #E8F0FE;\n",
              "      --fill-color: #1967D2;\n",
              "      --hover-bg-color: #E2EBFA;\n",
              "      --hover-fill-color: #174EA6;\n",
              "      --disabled-fill-color: #AAA;\n",
              "      --disabled-bg-color: #DDD;\n",
              "  }\n",
              "\n",
              "  [theme=dark] .colab-df-quickchart {\n",
              "      --bg-color: #3B4455;\n",
              "      --fill-color: #D2E3FC;\n",
              "      --hover-bg-color: #434B5C;\n",
              "      --hover-fill-color: #FFFFFF;\n",
              "      --disabled-bg-color: #3B4455;\n",
              "      --disabled-fill-color: #666;\n",
              "  }\n",
              "\n",
              "  .colab-df-quickchart {\n",
              "    background-color: var(--bg-color);\n",
              "    border: none;\n",
              "    border-radius: 50%;\n",
              "    cursor: pointer;\n",
              "    display: none;\n",
              "    fill: var(--fill-color);\n",
              "    height: 32px;\n",
              "    padding: 0;\n",
              "    width: 32px;\n",
              "  }\n",
              "\n",
              "  .colab-df-quickchart:hover {\n",
              "    background-color: var(--hover-bg-color);\n",
              "    box-shadow: 0 1px 2px rgba(60, 64, 67, 0.3), 0 1px 3px 1px rgba(60, 64, 67, 0.15);\n",
              "    fill: var(--button-hover-fill-color);\n",
              "  }\n",
              "\n",
              "  .colab-df-quickchart-complete:disabled,\n",
              "  .colab-df-quickchart-complete:disabled:hover {\n",
              "    background-color: var(--disabled-bg-color);\n",
              "    fill: var(--disabled-fill-color);\n",
              "    box-shadow: none;\n",
              "  }\n",
              "\n",
              "  .colab-df-spinner {\n",
              "    border: 2px solid var(--fill-color);\n",
              "    border-color: transparent;\n",
              "    border-bottom-color: var(--fill-color);\n",
              "    animation:\n",
              "      spin 1s steps(1) infinite;\n",
              "  }\n",
              "\n",
              "  @keyframes spin {\n",
              "    0% {\n",
              "      border-color: transparent;\n",
              "      border-bottom-color: var(--fill-color);\n",
              "      border-left-color: var(--fill-color);\n",
              "    }\n",
              "    20% {\n",
              "      border-color: transparent;\n",
              "      border-left-color: var(--fill-color);\n",
              "      border-top-color: var(--fill-color);\n",
              "    }\n",
              "    30% {\n",
              "      border-color: transparent;\n",
              "      border-left-color: var(--fill-color);\n",
              "      border-top-color: var(--fill-color);\n",
              "      border-right-color: var(--fill-color);\n",
              "    }\n",
              "    40% {\n",
              "      border-color: transparent;\n",
              "      border-right-color: var(--fill-color);\n",
              "      border-top-color: var(--fill-color);\n",
              "    }\n",
              "    60% {\n",
              "      border-color: transparent;\n",
              "      border-right-color: var(--fill-color);\n",
              "    }\n",
              "    80% {\n",
              "      border-color: transparent;\n",
              "      border-right-color: var(--fill-color);\n",
              "      border-bottom-color: var(--fill-color);\n",
              "    }\n",
              "    90% {\n",
              "      border-color: transparent;\n",
              "      border-bottom-color: var(--fill-color);\n",
              "    }\n",
              "  }\n",
              "</style>\n",
              "\n",
              "      <script>\n",
              "        async function quickchart(key) {\n",
              "          const quickchartButtonEl =\n",
              "            document.querySelector('#' + key + ' button');\n",
              "          quickchartButtonEl.disabled = true;  // To prevent multiple clicks.\n",
              "          quickchartButtonEl.classList.add('colab-df-spinner');\n",
              "          try {\n",
              "            const charts = await google.colab.kernel.invokeFunction(\n",
              "                'suggestCharts', [key], {});\n",
              "          } catch (error) {\n",
              "            console.error('Error during call to suggestCharts:', error);\n",
              "          }\n",
              "          quickchartButtonEl.classList.remove('colab-df-spinner');\n",
              "          quickchartButtonEl.classList.add('colab-df-quickchart-complete');\n",
              "        }\n",
              "        (() => {\n",
              "          let quickchartButtonEl =\n",
              "            document.querySelector('#df-1e385593-ffe0-4f27-8424-78c28e88d5db button');\n",
              "          quickchartButtonEl.style.display =\n",
              "            google.colab.kernel.accessAllowed ? 'block' : 'none';\n",
              "        })();\n",
              "      </script>\n",
              "    </div>\n",
              "\n",
              "    </div>\n",
              "  </div>\n"
            ],
            "application/vnd.google.colaboratory.intrinsic+json": {
              "type": "dataframe",
              "variable_name": "df",
              "summary": "{\n  \"name\": \"df\",\n  \"rows\": 5346,\n  \"fields\": [\n    {\n      \"column\": \"industry\",\n      \"properties\": {\n        \"dtype\": \"category\",\n        \"num_unique_values\": 142,\n        \"samples\": [\n          \"tobacco\",\n          \"management consulting\",\n          \"media production\"\n        ],\n        \"semantic_type\": \"\",\n        \"description\": \"\"\n      }\n    },\n    {\n      \"column\": \"output\",\n      \"properties\": {\n        \"dtype\": \"string\",\n        \"num_unique_values\": 5313,\n        \"samples\": [\n          \"Chartered Accountants\",\n          \"Event Ticketing Software for Event Professionals\",\n          \"Your Education Partner\"\n        ],\n        \"semantic_type\": \"\",\n        \"description\": \"\"\n      }\n    }\n  ]\n}"
            }
          },
          "metadata": {},
          "execution_count": 2
        }
      ],
      "source": [
        "from google.colab import drive\n",
        "drive.mount('/content/drive')\n",
        "\n",
        "csv_path = \"/content/drive/MyDrive/Colab Notebooks/slogan-valid.csv\"\n",
        "\n",
        "data = pd.read_csv(csv_path)\n",
        "\n",
        "df = data[['industry', 'output']].dropna().reset_index(drop=True)\n",
        "\n",
        "df.head()\n"
      ]
    },
    {
      "cell_type": "markdown",
      "metadata": {
        "id": "P73AdxMmyyWc"
      },
      "source": [
        "## Data Preprocessing\n",
        "\n",
        "Since we are working with textual data, we need software that understands natural language. For this, we'll use a library for processing text called **spaCy**. Using spaCy, we'll break the text into smaller units called tokens that are easier for the machine to process. This process is called **tokenisation**. We'll also convert all text to lowercase and remove punctuation because this information is not necessary for our models. Run the code below, and your dataframe (df) will gain a new column called **'processed_slogan'** which contains the preprocessed text.\n",
        "\n",
        "\n"
      ]
    },
    {
      "cell_type": "code",
      "execution_count": 3,
      "metadata": {
        "colab": {
          "base_uri": "https://localhost:8080/",
          "height": 206
        },
        "id": "O4R13M86y0AT",
        "outputId": "019afd83-fbcc-49e1-cdcd-6c30f6540b2a"
      },
      "outputs": [
        {
          "output_type": "execute_result",
          "data": {
            "text/plain": [
              "                       industry  \\\n",
              "0             computer hardware   \n",
              "1  health, wellness and fitness   \n",
              "2                      internet   \n",
              "3                      internet   \n",
              "4            financial services   \n",
              "\n",
              "                                              output  \\\n",
              "0           Taking Care of Small Business Technology   \n",
              "1              Build World-Class Recreation Programs   \n",
              "2  Most Powerful Lead Generation Software for Mar...   \n",
              "3              Hire quality freelancers for your job   \n",
              "4                Financial Advisers Norwich, Norfolk   \n",
              "\n",
              "                                    processed_slogan  \\\n",
              "0           taking care of small business technology   \n",
              "1              build world class recreation programs   \n",
              "2  most powerful lead generation software for mar...   \n",
              "3              hire quality freelancers for your job   \n",
              "4                 financial advisers norwich norfolk   \n",
              "\n",
              "                                     modified_slogan  \n",
              "0  computer hardware taking care of small busines...  \n",
              "1  health, wellness and fitness build world class...  \n",
              "2  internet most powerful lead generation softwar...  \n",
              "3     internet hire quality freelancers for your job  \n",
              "4  financial services financial advisers norwich ...  "
            ],
            "text/html": [
              "\n",
              "  <div id=\"df-f66f4622-d626-4b2a-9eca-b029090ed6a2\" class=\"colab-df-container\">\n",
              "    <div>\n",
              "<style scoped>\n",
              "    .dataframe tbody tr th:only-of-type {\n",
              "        vertical-align: middle;\n",
              "    }\n",
              "\n",
              "    .dataframe tbody tr th {\n",
              "        vertical-align: top;\n",
              "    }\n",
              "\n",
              "    .dataframe thead th {\n",
              "        text-align: right;\n",
              "    }\n",
              "</style>\n",
              "<table border=\"1\" class=\"dataframe\">\n",
              "  <thead>\n",
              "    <tr style=\"text-align: right;\">\n",
              "      <th></th>\n",
              "      <th>industry</th>\n",
              "      <th>output</th>\n",
              "      <th>processed_slogan</th>\n",
              "      <th>modified_slogan</th>\n",
              "    </tr>\n",
              "  </thead>\n",
              "  <tbody>\n",
              "    <tr>\n",
              "      <th>0</th>\n",
              "      <td>computer hardware</td>\n",
              "      <td>Taking Care of Small Business Technology</td>\n",
              "      <td>taking care of small business technology</td>\n",
              "      <td>computer hardware taking care of small busines...</td>\n",
              "    </tr>\n",
              "    <tr>\n",
              "      <th>1</th>\n",
              "      <td>health, wellness and fitness</td>\n",
              "      <td>Build World-Class Recreation Programs</td>\n",
              "      <td>build world class recreation programs</td>\n",
              "      <td>health, wellness and fitness build world class...</td>\n",
              "    </tr>\n",
              "    <tr>\n",
              "      <th>2</th>\n",
              "      <td>internet</td>\n",
              "      <td>Most Powerful Lead Generation Software for Mar...</td>\n",
              "      <td>most powerful lead generation software for mar...</td>\n",
              "      <td>internet most powerful lead generation softwar...</td>\n",
              "    </tr>\n",
              "    <tr>\n",
              "      <th>3</th>\n",
              "      <td>internet</td>\n",
              "      <td>Hire quality freelancers for your job</td>\n",
              "      <td>hire quality freelancers for your job</td>\n",
              "      <td>internet hire quality freelancers for your job</td>\n",
              "    </tr>\n",
              "    <tr>\n",
              "      <th>4</th>\n",
              "      <td>financial services</td>\n",
              "      <td>Financial Advisers Norwich, Norfolk</td>\n",
              "      <td>financial advisers norwich norfolk</td>\n",
              "      <td>financial services financial advisers norwich ...</td>\n",
              "    </tr>\n",
              "  </tbody>\n",
              "</table>\n",
              "</div>\n",
              "    <div class=\"colab-df-buttons\">\n",
              "\n",
              "  <div class=\"colab-df-container\">\n",
              "    <button class=\"colab-df-convert\" onclick=\"convertToInteractive('df-f66f4622-d626-4b2a-9eca-b029090ed6a2')\"\n",
              "            title=\"Convert this dataframe to an interactive table.\"\n",
              "            style=\"display:none;\">\n",
              "\n",
              "  <svg xmlns=\"http://www.w3.org/2000/svg\" height=\"24px\" viewBox=\"0 -960 960 960\">\n",
              "    <path d=\"M120-120v-720h720v720H120Zm60-500h600v-160H180v160Zm220 220h160v-160H400v160Zm0 220h160v-160H400v160ZM180-400h160v-160H180v160Zm440 0h160v-160H620v160ZM180-180h160v-160H180v160Zm440 0h160v-160H620v160Z\"/>\n",
              "  </svg>\n",
              "    </button>\n",
              "\n",
              "  <style>\n",
              "    .colab-df-container {\n",
              "      display:flex;\n",
              "      gap: 12px;\n",
              "    }\n",
              "\n",
              "    .colab-df-convert {\n",
              "      background-color: #E8F0FE;\n",
              "      border: none;\n",
              "      border-radius: 50%;\n",
              "      cursor: pointer;\n",
              "      display: none;\n",
              "      fill: #1967D2;\n",
              "      height: 32px;\n",
              "      padding: 0 0 0 0;\n",
              "      width: 32px;\n",
              "    }\n",
              "\n",
              "    .colab-df-convert:hover {\n",
              "      background-color: #E2EBFA;\n",
              "      box-shadow: 0px 1px 2px rgba(60, 64, 67, 0.3), 0px 1px 3px 1px rgba(60, 64, 67, 0.15);\n",
              "      fill: #174EA6;\n",
              "    }\n",
              "\n",
              "    .colab-df-buttons div {\n",
              "      margin-bottom: 4px;\n",
              "    }\n",
              "\n",
              "    [theme=dark] .colab-df-convert {\n",
              "      background-color: #3B4455;\n",
              "      fill: #D2E3FC;\n",
              "    }\n",
              "\n",
              "    [theme=dark] .colab-df-convert:hover {\n",
              "      background-color: #434B5C;\n",
              "      box-shadow: 0px 1px 3px 1px rgba(0, 0, 0, 0.15);\n",
              "      filter: drop-shadow(0px 1px 2px rgba(0, 0, 0, 0.3));\n",
              "      fill: #FFFFFF;\n",
              "    }\n",
              "  </style>\n",
              "\n",
              "    <script>\n",
              "      const buttonEl =\n",
              "        document.querySelector('#df-f66f4622-d626-4b2a-9eca-b029090ed6a2 button.colab-df-convert');\n",
              "      buttonEl.style.display =\n",
              "        google.colab.kernel.accessAllowed ? 'block' : 'none';\n",
              "\n",
              "      async function convertToInteractive(key) {\n",
              "        const element = document.querySelector('#df-f66f4622-d626-4b2a-9eca-b029090ed6a2');\n",
              "        const dataTable =\n",
              "          await google.colab.kernel.invokeFunction('convertToInteractive',\n",
              "                                                    [key], {});\n",
              "        if (!dataTable) return;\n",
              "\n",
              "        const docLinkHtml = 'Like what you see? Visit the ' +\n",
              "          '<a target=\"_blank\" href=https://colab.research.google.com/notebooks/data_table.ipynb>data table notebook</a>'\n",
              "          + ' to learn more about interactive tables.';\n",
              "        element.innerHTML = '';\n",
              "        dataTable['output_type'] = 'display_data';\n",
              "        await google.colab.output.renderOutput(dataTable, element);\n",
              "        const docLink = document.createElement('div');\n",
              "        docLink.innerHTML = docLinkHtml;\n",
              "        element.appendChild(docLink);\n",
              "      }\n",
              "    </script>\n",
              "  </div>\n",
              "\n",
              "\n",
              "    <div id=\"df-b94f1ebd-5825-4e8d-b6a5-b17ea67996f4\">\n",
              "      <button class=\"colab-df-quickchart\" onclick=\"quickchart('df-b94f1ebd-5825-4e8d-b6a5-b17ea67996f4')\"\n",
              "                title=\"Suggest charts\"\n",
              "                style=\"display:none;\">\n",
              "\n",
              "<svg xmlns=\"http://www.w3.org/2000/svg\" height=\"24px\"viewBox=\"0 0 24 24\"\n",
              "     width=\"24px\">\n",
              "    <g>\n",
              "        <path d=\"M19 3H5c-1.1 0-2 .9-2 2v14c0 1.1.9 2 2 2h14c1.1 0 2-.9 2-2V5c0-1.1-.9-2-2-2zM9 17H7v-7h2v7zm4 0h-2V7h2v10zm4 0h-2v-4h2v4z\"/>\n",
              "    </g>\n",
              "</svg>\n",
              "      </button>\n",
              "\n",
              "<style>\n",
              "  .colab-df-quickchart {\n",
              "      --bg-color: #E8F0FE;\n",
              "      --fill-color: #1967D2;\n",
              "      --hover-bg-color: #E2EBFA;\n",
              "      --hover-fill-color: #174EA6;\n",
              "      --disabled-fill-color: #AAA;\n",
              "      --disabled-bg-color: #DDD;\n",
              "  }\n",
              "\n",
              "  [theme=dark] .colab-df-quickchart {\n",
              "      --bg-color: #3B4455;\n",
              "      --fill-color: #D2E3FC;\n",
              "      --hover-bg-color: #434B5C;\n",
              "      --hover-fill-color: #FFFFFF;\n",
              "      --disabled-bg-color: #3B4455;\n",
              "      --disabled-fill-color: #666;\n",
              "  }\n",
              "\n",
              "  .colab-df-quickchart {\n",
              "    background-color: var(--bg-color);\n",
              "    border: none;\n",
              "    border-radius: 50%;\n",
              "    cursor: pointer;\n",
              "    display: none;\n",
              "    fill: var(--fill-color);\n",
              "    height: 32px;\n",
              "    padding: 0;\n",
              "    width: 32px;\n",
              "  }\n",
              "\n",
              "  .colab-df-quickchart:hover {\n",
              "    background-color: var(--hover-bg-color);\n",
              "    box-shadow: 0 1px 2px rgba(60, 64, 67, 0.3), 0 1px 3px 1px rgba(60, 64, 67, 0.15);\n",
              "    fill: var(--button-hover-fill-color);\n",
              "  }\n",
              "\n",
              "  .colab-df-quickchart-complete:disabled,\n",
              "  .colab-df-quickchart-complete:disabled:hover {\n",
              "    background-color: var(--disabled-bg-color);\n",
              "    fill: var(--disabled-fill-color);\n",
              "    box-shadow: none;\n",
              "  }\n",
              "\n",
              "  .colab-df-spinner {\n",
              "    border: 2px solid var(--fill-color);\n",
              "    border-color: transparent;\n",
              "    border-bottom-color: var(--fill-color);\n",
              "    animation:\n",
              "      spin 1s steps(1) infinite;\n",
              "  }\n",
              "\n",
              "  @keyframes spin {\n",
              "    0% {\n",
              "      border-color: transparent;\n",
              "      border-bottom-color: var(--fill-color);\n",
              "      border-left-color: var(--fill-color);\n",
              "    }\n",
              "    20% {\n",
              "      border-color: transparent;\n",
              "      border-left-color: var(--fill-color);\n",
              "      border-top-color: var(--fill-color);\n",
              "    }\n",
              "    30% {\n",
              "      border-color: transparent;\n",
              "      border-left-color: var(--fill-color);\n",
              "      border-top-color: var(--fill-color);\n",
              "      border-right-color: var(--fill-color);\n",
              "    }\n",
              "    40% {\n",
              "      border-color: transparent;\n",
              "      border-right-color: var(--fill-color);\n",
              "      border-top-color: var(--fill-color);\n",
              "    }\n",
              "    60% {\n",
              "      border-color: transparent;\n",
              "      border-right-color: var(--fill-color);\n",
              "    }\n",
              "    80% {\n",
              "      border-color: transparent;\n",
              "      border-right-color: var(--fill-color);\n",
              "      border-bottom-color: var(--fill-color);\n",
              "    }\n",
              "    90% {\n",
              "      border-color: transparent;\n",
              "      border-bottom-color: var(--fill-color);\n",
              "    }\n",
              "  }\n",
              "</style>\n",
              "\n",
              "      <script>\n",
              "        async function quickchart(key) {\n",
              "          const quickchartButtonEl =\n",
              "            document.querySelector('#' + key + ' button');\n",
              "          quickchartButtonEl.disabled = true;  // To prevent multiple clicks.\n",
              "          quickchartButtonEl.classList.add('colab-df-spinner');\n",
              "          try {\n",
              "            const charts = await google.colab.kernel.invokeFunction(\n",
              "                'suggestCharts', [key], {});\n",
              "          } catch (error) {\n",
              "            console.error('Error during call to suggestCharts:', error);\n",
              "          }\n",
              "          quickchartButtonEl.classList.remove('colab-df-spinner');\n",
              "          quickchartButtonEl.classList.add('colab-df-quickchart-complete');\n",
              "        }\n",
              "        (() => {\n",
              "          let quickchartButtonEl =\n",
              "            document.querySelector('#df-b94f1ebd-5825-4e8d-b6a5-b17ea67996f4 button');\n",
              "          quickchartButtonEl.style.display =\n",
              "            google.colab.kernel.accessAllowed ? 'block' : 'none';\n",
              "        })();\n",
              "      </script>\n",
              "    </div>\n",
              "\n",
              "    </div>\n",
              "  </div>\n"
            ],
            "application/vnd.google.colaboratory.intrinsic+json": {
              "type": "dataframe",
              "variable_name": "df",
              "summary": "{\n  \"name\": \"df\",\n  \"rows\": 5346,\n  \"fields\": [\n    {\n      \"column\": \"industry\",\n      \"properties\": {\n        \"dtype\": \"category\",\n        \"num_unique_values\": 142,\n        \"samples\": [\n          \"tobacco\",\n          \"management consulting\",\n          \"media production\"\n        ],\n        \"semantic_type\": \"\",\n        \"description\": \"\"\n      }\n    },\n    {\n      \"column\": \"output\",\n      \"properties\": {\n        \"dtype\": \"string\",\n        \"num_unique_values\": 5313,\n        \"samples\": [\n          \"Chartered Accountants\",\n          \"Event Ticketing Software for Event Professionals\",\n          \"Your Education Partner\"\n        ],\n        \"semantic_type\": \"\",\n        \"description\": \"\"\n      }\n    },\n    {\n      \"column\": \"processed_slogan\",\n      \"properties\": {\n        \"dtype\": \"string\",\n        \"num_unique_values\": 5312,\n        \"samples\": [\n          \"ua local 636 steamfitter\",\n          \"the software hub\",\n          \"commercial painting chicago il\"\n        ],\n        \"semantic_type\": \"\",\n        \"description\": \"\"\n      }\n    },\n    {\n      \"column\": \"modified_slogan\",\n      \"properties\": {\n        \"dtype\": \"string\",\n        \"num_unique_values\": 5325,\n        \"samples\": [\n          \"retail zero turn mowers concession trailers\",\n          \"retail 200 + certified luxury exotic used cars indianapolis in\",\n          \"events services event apps association apps membership apps\"\n        ],\n        \"semantic_type\": \"\",\n        \"description\": \"\"\n      }\n    }\n  ]\n}"
            }
          },
          "metadata": {},
          "execution_count": 3
        }
      ],
      "source": [
        "# Load spaCy model for text processing\n",
        "nlp = spacy.load(\"en_core_web_sm\")\n",
        "\n",
        "# Define text preprocessing function\n",
        "def preprocess_text(text):\n",
        "    text_lower = text.lower()\n",
        "    doc = nlp(text_lower)\n",
        "\n",
        "    processed_tokens = []\n",
        "\n",
        "    for token in doc:\n",
        "        if not token.is_punct:\n",
        "            processed_tokens.append(token.text)\n",
        "\n",
        "    return \" \".join(processed_tokens)\n",
        "\n",
        "df[\"processed_slogan\"] = df[\"output\"].apply(preprocess_text)\n",
        "df[\"modified_slogan\"] = df[\"industry\"].str.lower() + \" \" + df[\"processed_slogan\"]\n",
        "\n",
        "df.head()"
      ]
    },
    {
      "cell_type": "markdown",
      "metadata": {
        "id": "33UzRtyZzDW1"
      },
      "source": [
        "We want our model to generate **industry-specific** slogans. If we use the 'processed_slogan' column as it is, we'll be leaving out crucial context - the industries of the companies behind those slogans. To fix this, we'll create a new **'modified_slogan'** column that adds the industry name to the front of processed slogan.  \n",
        "\n",
        "For example:  \n",
        "\n",
        "> industry = 'computer hardware'  \n",
        "processed_slogan = 'taking care of small business technology'  \n",
        "modified_slogan = 'computer hardware taking care of small business technology'\n",
        "\n",
        "Write code in the cell below to achieve this."
      ]
    },
    {
      "cell_type": "code",
      "execution_count": 4,
      "metadata": {
        "colab": {
          "base_uri": "https://localhost:8080/",
          "height": 206
        },
        "id": "RC3YRemEz-EU",
        "outputId": "b7bc44e8-d797-4f1f-f2a7-93c370a70efa"
      },
      "outputs": [
        {
          "output_type": "execute_result",
          "data": {
            "text/plain": [
              "                       industry  \\\n",
              "0             computer hardware   \n",
              "1  health, wellness and fitness   \n",
              "2                      internet   \n",
              "3                      internet   \n",
              "4            financial services   \n",
              "\n",
              "                                    processed_slogan  \\\n",
              "0           taking care of small business technology   \n",
              "1              build world class recreation programs   \n",
              "2  most powerful lead generation software for mar...   \n",
              "3              hire quality freelancers for your job   \n",
              "4                 financial advisers norwich norfolk   \n",
              "\n",
              "                                     modified_slogan  \n",
              "0  computer hardware taking care of small busines...  \n",
              "1  health, wellness and fitness build world class...  \n",
              "2  internet most powerful lead generation softwar...  \n",
              "3     internet hire quality freelancers for your job  \n",
              "4  financial services financial advisers norwich ...  "
            ],
            "text/html": [
              "\n",
              "  <div id=\"df-792a4444-bcbd-460b-bcd4-f8d228f552d7\" class=\"colab-df-container\">\n",
              "    <div>\n",
              "<style scoped>\n",
              "    .dataframe tbody tr th:only-of-type {\n",
              "        vertical-align: middle;\n",
              "    }\n",
              "\n",
              "    .dataframe tbody tr th {\n",
              "        vertical-align: top;\n",
              "    }\n",
              "\n",
              "    .dataframe thead th {\n",
              "        text-align: right;\n",
              "    }\n",
              "</style>\n",
              "<table border=\"1\" class=\"dataframe\">\n",
              "  <thead>\n",
              "    <tr style=\"text-align: right;\">\n",
              "      <th></th>\n",
              "      <th>industry</th>\n",
              "      <th>processed_slogan</th>\n",
              "      <th>modified_slogan</th>\n",
              "    </tr>\n",
              "  </thead>\n",
              "  <tbody>\n",
              "    <tr>\n",
              "      <th>0</th>\n",
              "      <td>computer hardware</td>\n",
              "      <td>taking care of small business technology</td>\n",
              "      <td>computer hardware taking care of small busines...</td>\n",
              "    </tr>\n",
              "    <tr>\n",
              "      <th>1</th>\n",
              "      <td>health, wellness and fitness</td>\n",
              "      <td>build world class recreation programs</td>\n",
              "      <td>health, wellness and fitness build world class...</td>\n",
              "    </tr>\n",
              "    <tr>\n",
              "      <th>2</th>\n",
              "      <td>internet</td>\n",
              "      <td>most powerful lead generation software for mar...</td>\n",
              "      <td>internet most powerful lead generation softwar...</td>\n",
              "    </tr>\n",
              "    <tr>\n",
              "      <th>3</th>\n",
              "      <td>internet</td>\n",
              "      <td>hire quality freelancers for your job</td>\n",
              "      <td>internet hire quality freelancers for your job</td>\n",
              "    </tr>\n",
              "    <tr>\n",
              "      <th>4</th>\n",
              "      <td>financial services</td>\n",
              "      <td>financial advisers norwich norfolk</td>\n",
              "      <td>financial services financial advisers norwich ...</td>\n",
              "    </tr>\n",
              "  </tbody>\n",
              "</table>\n",
              "</div>\n",
              "    <div class=\"colab-df-buttons\">\n",
              "\n",
              "  <div class=\"colab-df-container\">\n",
              "    <button class=\"colab-df-convert\" onclick=\"convertToInteractive('df-792a4444-bcbd-460b-bcd4-f8d228f552d7')\"\n",
              "            title=\"Convert this dataframe to an interactive table.\"\n",
              "            style=\"display:none;\">\n",
              "\n",
              "  <svg xmlns=\"http://www.w3.org/2000/svg\" height=\"24px\" viewBox=\"0 -960 960 960\">\n",
              "    <path d=\"M120-120v-720h720v720H120Zm60-500h600v-160H180v160Zm220 220h160v-160H400v160Zm0 220h160v-160H400v160ZM180-400h160v-160H180v160Zm440 0h160v-160H620v160ZM180-180h160v-160H180v160Zm440 0h160v-160H620v160Z\"/>\n",
              "  </svg>\n",
              "    </button>\n",
              "\n",
              "  <style>\n",
              "    .colab-df-container {\n",
              "      display:flex;\n",
              "      gap: 12px;\n",
              "    }\n",
              "\n",
              "    .colab-df-convert {\n",
              "      background-color: #E8F0FE;\n",
              "      border: none;\n",
              "      border-radius: 50%;\n",
              "      cursor: pointer;\n",
              "      display: none;\n",
              "      fill: #1967D2;\n",
              "      height: 32px;\n",
              "      padding: 0 0 0 0;\n",
              "      width: 32px;\n",
              "    }\n",
              "\n",
              "    .colab-df-convert:hover {\n",
              "      background-color: #E2EBFA;\n",
              "      box-shadow: 0px 1px 2px rgba(60, 64, 67, 0.3), 0px 1px 3px 1px rgba(60, 64, 67, 0.15);\n",
              "      fill: #174EA6;\n",
              "    }\n",
              "\n",
              "    .colab-df-buttons div {\n",
              "      margin-bottom: 4px;\n",
              "    }\n",
              "\n",
              "    [theme=dark] .colab-df-convert {\n",
              "      background-color: #3B4455;\n",
              "      fill: #D2E3FC;\n",
              "    }\n",
              "\n",
              "    [theme=dark] .colab-df-convert:hover {\n",
              "      background-color: #434B5C;\n",
              "      box-shadow: 0px 1px 3px 1px rgba(0, 0, 0, 0.15);\n",
              "      filter: drop-shadow(0px 1px 2px rgba(0, 0, 0, 0.3));\n",
              "      fill: #FFFFFF;\n",
              "    }\n",
              "  </style>\n",
              "\n",
              "    <script>\n",
              "      const buttonEl =\n",
              "        document.querySelector('#df-792a4444-bcbd-460b-bcd4-f8d228f552d7 button.colab-df-convert');\n",
              "      buttonEl.style.display =\n",
              "        google.colab.kernel.accessAllowed ? 'block' : 'none';\n",
              "\n",
              "      async function convertToInteractive(key) {\n",
              "        const element = document.querySelector('#df-792a4444-bcbd-460b-bcd4-f8d228f552d7');\n",
              "        const dataTable =\n",
              "          await google.colab.kernel.invokeFunction('convertToInteractive',\n",
              "                                                    [key], {});\n",
              "        if (!dataTable) return;\n",
              "\n",
              "        const docLinkHtml = 'Like what you see? Visit the ' +\n",
              "          '<a target=\"_blank\" href=https://colab.research.google.com/notebooks/data_table.ipynb>data table notebook</a>'\n",
              "          + ' to learn more about interactive tables.';\n",
              "        element.innerHTML = '';\n",
              "        dataTable['output_type'] = 'display_data';\n",
              "        await google.colab.output.renderOutput(dataTable, element);\n",
              "        const docLink = document.createElement('div');\n",
              "        docLink.innerHTML = docLinkHtml;\n",
              "        element.appendChild(docLink);\n",
              "      }\n",
              "    </script>\n",
              "  </div>\n",
              "\n",
              "\n",
              "    <div id=\"df-f6b82bae-20d6-4ff7-a26a-0ac3b2da78fd\">\n",
              "      <button class=\"colab-df-quickchart\" onclick=\"quickchart('df-f6b82bae-20d6-4ff7-a26a-0ac3b2da78fd')\"\n",
              "                title=\"Suggest charts\"\n",
              "                style=\"display:none;\">\n",
              "\n",
              "<svg xmlns=\"http://www.w3.org/2000/svg\" height=\"24px\"viewBox=\"0 0 24 24\"\n",
              "     width=\"24px\">\n",
              "    <g>\n",
              "        <path d=\"M19 3H5c-1.1 0-2 .9-2 2v14c0 1.1.9 2 2 2h14c1.1 0 2-.9 2-2V5c0-1.1-.9-2-2-2zM9 17H7v-7h2v7zm4 0h-2V7h2v10zm4 0h-2v-4h2v4z\"/>\n",
              "    </g>\n",
              "</svg>\n",
              "      </button>\n",
              "\n",
              "<style>\n",
              "  .colab-df-quickchart {\n",
              "      --bg-color: #E8F0FE;\n",
              "      --fill-color: #1967D2;\n",
              "      --hover-bg-color: #E2EBFA;\n",
              "      --hover-fill-color: #174EA6;\n",
              "      --disabled-fill-color: #AAA;\n",
              "      --disabled-bg-color: #DDD;\n",
              "  }\n",
              "\n",
              "  [theme=dark] .colab-df-quickchart {\n",
              "      --bg-color: #3B4455;\n",
              "      --fill-color: #D2E3FC;\n",
              "      --hover-bg-color: #434B5C;\n",
              "      --hover-fill-color: #FFFFFF;\n",
              "      --disabled-bg-color: #3B4455;\n",
              "      --disabled-fill-color: #666;\n",
              "  }\n",
              "\n",
              "  .colab-df-quickchart {\n",
              "    background-color: var(--bg-color);\n",
              "    border: none;\n",
              "    border-radius: 50%;\n",
              "    cursor: pointer;\n",
              "    display: none;\n",
              "    fill: var(--fill-color);\n",
              "    height: 32px;\n",
              "    padding: 0;\n",
              "    width: 32px;\n",
              "  }\n",
              "\n",
              "  .colab-df-quickchart:hover {\n",
              "    background-color: var(--hover-bg-color);\n",
              "    box-shadow: 0 1px 2px rgba(60, 64, 67, 0.3), 0 1px 3px 1px rgba(60, 64, 67, 0.15);\n",
              "    fill: var(--button-hover-fill-color);\n",
              "  }\n",
              "\n",
              "  .colab-df-quickchart-complete:disabled,\n",
              "  .colab-df-quickchart-complete:disabled:hover {\n",
              "    background-color: var(--disabled-bg-color);\n",
              "    fill: var(--disabled-fill-color);\n",
              "    box-shadow: none;\n",
              "  }\n",
              "\n",
              "  .colab-df-spinner {\n",
              "    border: 2px solid var(--fill-color);\n",
              "    border-color: transparent;\n",
              "    border-bottom-color: var(--fill-color);\n",
              "    animation:\n",
              "      spin 1s steps(1) infinite;\n",
              "  }\n",
              "\n",
              "  @keyframes spin {\n",
              "    0% {\n",
              "      border-color: transparent;\n",
              "      border-bottom-color: var(--fill-color);\n",
              "      border-left-color: var(--fill-color);\n",
              "    }\n",
              "    20% {\n",
              "      border-color: transparent;\n",
              "      border-left-color: var(--fill-color);\n",
              "      border-top-color: var(--fill-color);\n",
              "    }\n",
              "    30% {\n",
              "      border-color: transparent;\n",
              "      border-left-color: var(--fill-color);\n",
              "      border-top-color: var(--fill-color);\n",
              "      border-right-color: var(--fill-color);\n",
              "    }\n",
              "    40% {\n",
              "      border-color: transparent;\n",
              "      border-right-color: var(--fill-color);\n",
              "      border-top-color: var(--fill-color);\n",
              "    }\n",
              "    60% {\n",
              "      border-color: transparent;\n",
              "      border-right-color: var(--fill-color);\n",
              "    }\n",
              "    80% {\n",
              "      border-color: transparent;\n",
              "      border-right-color: var(--fill-color);\n",
              "      border-bottom-color: var(--fill-color);\n",
              "    }\n",
              "    90% {\n",
              "      border-color: transparent;\n",
              "      border-bottom-color: var(--fill-color);\n",
              "    }\n",
              "  }\n",
              "</style>\n",
              "\n",
              "      <script>\n",
              "        async function quickchart(key) {\n",
              "          const quickchartButtonEl =\n",
              "            document.querySelector('#' + key + ' button');\n",
              "          quickchartButtonEl.disabled = true;  // To prevent multiple clicks.\n",
              "          quickchartButtonEl.classList.add('colab-df-spinner');\n",
              "          try {\n",
              "            const charts = await google.colab.kernel.invokeFunction(\n",
              "                'suggestCharts', [key], {});\n",
              "          } catch (error) {\n",
              "            console.error('Error during call to suggestCharts:', error);\n",
              "          }\n",
              "          quickchartButtonEl.classList.remove('colab-df-spinner');\n",
              "          quickchartButtonEl.classList.add('colab-df-quickchart-complete');\n",
              "        }\n",
              "        (() => {\n",
              "          let quickchartButtonEl =\n",
              "            document.querySelector('#df-f6b82bae-20d6-4ff7-a26a-0ac3b2da78fd button');\n",
              "          quickchartButtonEl.style.display =\n",
              "            google.colab.kernel.accessAllowed ? 'block' : 'none';\n",
              "        })();\n",
              "      </script>\n",
              "    </div>\n",
              "\n",
              "    </div>\n",
              "  </div>\n"
            ],
            "application/vnd.google.colaboratory.intrinsic+json": {
              "type": "dataframe",
              "summary": "{\n  \"name\": \"df[[\\\"industry\\\", \\\"processed_slogan\\\", \\\"modified_slogan\\\"]]\",\n  \"rows\": 5,\n  \"fields\": [\n    {\n      \"column\": \"industry\",\n      \"properties\": {\n        \"dtype\": \"string\",\n        \"num_unique_values\": 4,\n        \"samples\": [\n          \"health, wellness and fitness\",\n          \"financial services\",\n          \"computer hardware\"\n        ],\n        \"semantic_type\": \"\",\n        \"description\": \"\"\n      }\n    },\n    {\n      \"column\": \"processed_slogan\",\n      \"properties\": {\n        \"dtype\": \"string\",\n        \"num_unique_values\": 5,\n        \"samples\": [\n          \"build world class recreation programs\",\n          \"financial advisers norwich norfolk\",\n          \"most powerful lead generation software for marketers\"\n        ],\n        \"semantic_type\": \"\",\n        \"description\": \"\"\n      }\n    },\n    {\n      \"column\": \"modified_slogan\",\n      \"properties\": {\n        \"dtype\": \"string\",\n        \"num_unique_values\": 5,\n        \"samples\": [\n          \"health, wellness and fitness build world class recreation programs\",\n          \"financial services financial advisers norwich norfolk\",\n          \"internet most powerful lead generation software for marketers\"\n        ],\n        \"semantic_type\": \"\",\n        \"description\": \"\"\n      }\n    }\n  ]\n}"
            }
          },
          "metadata": {},
          "execution_count": 4
        }
      ],
      "source": [
        "# Combine the industry and processed slogan into one text string\n",
        "df[\"modified_slogan\"] = df[\"industry\"].str.lower() + \" \" + df[\"processed_slogan\"]\n",
        "\n",
        "# Quick check\n",
        "df[[\"industry\", \"processed_slogan\", \"modified_slogan\"]].head()"
      ]
    },
    {
      "cell_type": "markdown",
      "metadata": {
        "id": "BwCx0Goq0M7g"
      },
      "source": [
        "Now we need to get data to train our model. We have textual data which we will need to represent numerically for our model to learn from it.  \n",
        "The code below does the following:\n",
        "1. Tokenizes a dataset of slogans.\n",
        "2. Converts words to numerical indices.\n",
        "3. Creates input sequences using the numerical indices.  \n",
        "\n",
        "Here's how it works. From the 'modified_slogan' column, we take the slogan \"computer hardware taking care of small business technology\". The tokenisation process will convert words into their corresponding indices:  \n",
        "\n",
        "<center>\n",
        "\n",
        "| Word         | Token Index |\n",
        "|-------------|-------|\n",
        "| \"computer\"  | 1     |\n",
        "| \"hardware\"  | 2     |\n",
        "| \"taking\"    | 3     |\n",
        "| \"care\"      | 4     |\n",
        "| \"of\"        | 5     |\n",
        "| \"small\"     | 6     |\n",
        "| \"business\"  | 7     |\n",
        "| \"technology\"| 8     |\n",
        "\n",
        "</center>\n",
        "\n",
        "So the tokenized list is:\n",
        "\n",
        "<center>\n",
        "[1, 2, 3, 4, 5, 6, 7, 8]\n",
        "</center>\n",
        "\n",
        "When creating input sequences for training, the loop generates progressively longer sequences.\n",
        "\n",
        "<center>\n",
        "\n",
        "| Token Index Sequence               | Corresponding Slogan                                 |\n",
        "|------------------------------|-----------------------------------------------------|\n",
        "| [1, 2]                       | \"computer hardware\"                                |\n",
        "| [1, 2, 3]                    | \"computer hardware taking\"                        |\n",
        "| [1, 2, 3, 4]                 | \"computer hardware taking care\"                   |\n",
        "| [1, 2, 3, 4, 5]              | \"computer hardware taking care of\"                |\n",
        "| [1, 2, 3, 4, 5, 6]           | \"computer hardware taking care of small\"          |\n",
        "| [1, 2, 3, 4, 5, 6, 7]        | \"computer hardware taking care of small business\" |\n",
        "| [1, 2, 3, 4, 5, 6, 7, 8]     | \"computer hardware taking care of small business technology\" |\n",
        "\n",
        "</center>\n",
        "\n",
        "Instead of training the model on only **complete slogans**, we provide partial phrases which will help the model learn how words connect over time. This will make it better at predicting the next word when generating slogans.  \n",
        "\n",
        "Run the cell block below to generate the input sequences. Be sure to read the comments to understand what the code is doing.\n"
      ]
    },
    {
      "cell_type": "code",
      "execution_count": 5,
      "metadata": {
        "colab": {
          "base_uri": "https://localhost:8080/"
        },
        "id": "BhAWFoTu0wyz",
        "outputId": "321b107c-9bf8-4f73-e92b-4aaa2917f4da"
      },
      "outputs": [
        {
          "output_type": "stream",
          "name": "stdout",
          "text": [
            "Total unique words: 6046\n",
            "Sample word index mapping: [('and', 1), ('services', 2), ('in', 3), ('for', 4), ('technology', 5), ('information', 6), ('marketing', 7), ('the', 8), ('management', 9), ('software', 10)]\n",
            "Number of input sequences: 34736\n",
            "Example sequence: [11, 236]\n"
          ]
        }
      ],
      "source": [
        "# Tokenizer to convert words into numerical values (tokens)\n",
        "tokenizer = Tokenizer()\n",
        "\n",
        "# Tokenizer learns the words in the dataset (builds vocabulary)\n",
        "tokenizer.fit_on_texts(df[\"modified_slogan\"])\n",
        "\n",
        "# Total number of unique words in the learned vocabulary\n",
        "total_words = len(tokenizer.word_index) + 1\n",
        "print(\"Total unique words:\", total_words)\n",
        "\n",
        "# Dictionary mapping words to their numerical index\n",
        "print(\"Sample word index mapping:\", list(tokenizer.word_index.items())[:10])\n",
        "\n",
        "# Creating input sequences\n",
        "# Initialise list to store the input sequences\n",
        "input_sequences = []\n",
        "\n",
        "# Iterate over modified slogans\n",
        "for line in df[\"modified_slogan\"]:\n",
        "    # Convert slogans to token sequences\n",
        "    token_list = tokenizer.texts_to_sequences([line])[0]  # returns a list of token indices\n",
        "\n",
        "    # Build progressively longer input sequences for better training\n",
        "    for i in range(1, len(token_list)):\n",
        "        input_sequences.append(token_list[:i+1])\n",
        "\n",
        "# Check results\n",
        "print(\"Number of input sequences:\", len(input_sequences))\n",
        "print(\"Example sequence:\", input_sequences[0])\n"
      ]
    },
    {
      "cell_type": "markdown",
      "metadata": {
        "id": "X1j7t3d507dQ"
      },
      "source": [
        "The input sequences created above are of **varying lengths**, which will be a problem when training our LSTM model. LSTMs require input sequences of **equal length**. So, we need to **pad** shorter sequences by **prepending zeros** until they match the length of the longest sequence.  \n",
        "\n",
        "For example, if the longest sequence has **10 tokens**, our padded sequences will look like this:\n",
        "\n",
        "<center>\n",
        "\n",
        "| Input Sequence                     | Padded Sequence                         |\n",
        "|-------------------------------------|-----------------------------------------|\n",
        "| [1, 2]                              | [0, 0, 0, 0, 0, 0, 0, 0, 1, 2]         |\n",
        "| [1, 2, 3]                           | [0, 0, 0, 0, 0, 0, 0, 1, 2, 3]         |\n",
        "| [1, 2, 3, 4]                        | [0, 0, 0, 0, 0, 0, 1, 2, 3, 4]         |\n",
        "| [1, 2, 3, 4, 5]                     | [0, 0, 0, 0, 0, 1, 2, 3, 4, 5]         |\n",
        "| [1, 2, 3, 4, 5, 6]                  | [0, 0, 0, 0, 1, 2, 3, 4, 5, 6]         |\n",
        "| [1, 2, 3, 4, 5, 6, 7]               | [0, 0, 0, 1, 2, 3, 4, 5, 6, 7]         |\n",
        "| [1, 2, 3, 4, 5, 6, 7, 8]            | [0, 0, 1, 2, 3, 4, 5, 6, 7, 8]         |\n",
        "\n",
        "</center>\n",
        "\n",
        "In the cell below, write code that **finds the length of the longest sequence** in **input_sequences** and stores this value in a variable named **max_seq_len**."
      ]
    },
    {
      "cell_type": "code",
      "execution_count": 6,
      "metadata": {
        "colab": {
          "base_uri": "https://localhost:8080/"
        },
        "id": "3brs-0ny08tP",
        "outputId": "568b850b-88a8-493b-fc44-6f832c3112d9"
      },
      "outputs": [
        {
          "output_type": "stream",
          "name": "stdout",
          "text": [
            "The length of the longest sequence is: 15\n"
          ]
        }
      ],
      "source": [
        "# Find the length of the longest input sequence\n",
        "max_seq_len = max(len(seq) for seq in input_sequences)\n",
        "\n",
        "# Display the result\n",
        "print(\"The length of the longest sequence is:\", max_seq_len)\n"
      ]
    },
    {
      "cell_type": "markdown",
      "metadata": {
        "id": "pJiR_Dok1Gku"
      },
      "source": [
        "Run the cell below to pad the input sequences so they are all the same length as **max_seq_length**."
      ]
    },
    {
      "cell_type": "code",
      "execution_count": 7,
      "metadata": {
        "colab": {
          "base_uri": "https://localhost:8080/"
        },
        "id": "b4KE_AZI1qKi",
        "outputId": "1501b977-eff7-4f9d-811b-aef09a13d747"
      },
      "outputs": [
        {
          "output_type": "stream",
          "name": "stdout",
          "text": [
            "Padded input sequences shape: (34736, 15)\n",
            "Example padded sequence:\n",
            " [  0   0   0   0   0   0   0   0   0   0   0   0   0  11 236]\n"
          ]
        }
      ],
      "source": [
        "# Pad all input sequences so they are the same length as max_seq_len\n",
        "input_sequences = pad_sequences(input_sequences, maxlen=max_seq_len, padding=\"pre\")\n",
        "\n",
        "# Check\n",
        "print(\"Padded input sequences shape:\", input_sequences.shape)\n",
        "print(\"Example padded sequence:\\n\", input_sequences[0])"
      ]
    },
    {
      "cell_type": "markdown",
      "metadata": {
        "id": "gz0LpgN013Pc"
      },
      "source": [
        "## Training Data for Slogan Generator\n",
        "\n",
        "The input sequences generated will be used as our training data. Our LSTM needs to learn how to predict the **next word** in a sequence.  \n",
        "\n",
        "The inputs for our model will be the input sequences **excluding the last token index** and the outputs will be the **last token index**.  \n",
        "\n",
        "As an example, let us use the input sequence [0, 0, 1, 2, 3, 4, 5, 6, 7, 8] and say it corresponds to the slogan \"computer hardware taking care of small business technology\". When training the model:\n",
        "\n",
        "> Our input **x** will be the input sequence [0, 0, 1, 2, 3, 4, 5, 6, 7] corresponding to \"computer hardware taking care of small\".  \n",
        "> Our output **y** will be [8] which corresponds to \"business\".  \n",
        "\n",
        "In the code cell below, use `input_sequences` to create the following two variables:\n",
        "1. **X_gen** which contains the input sequences excluding the last token index.\n",
        "2. **y_gen** which contains the last token index of the input sequence."
      ]
    },
    {
      "cell_type": "code",
      "execution_count": 8,
      "metadata": {
        "colab": {
          "base_uri": "https://localhost:8080/"
        },
        "id": "TCHOFrz317Yz",
        "outputId": "7ababf9e-3655-4051-dd93-eb75c0822091"
      },
      "outputs": [
        {
          "output_type": "stream",
          "name": "stdout",
          "text": [
            "X_gen shape: (34736, 14)\n",
            "y_gen shape after one-hot encoding: (34736, 6046)\n",
            "Example X_gen: [ 0  0  0  0  0  0  0  0  0  0  0  0  0 11]\n",
            "Example y_gen: [0. 0. 0. 0. 0. 0. 0. 0. 0. 0.] ...\n"
          ]
        }
      ],
      "source": [
        "import numpy as np\n",
        "import tensorflow as tf\n",
        "\n",
        "# Convert to NumPy array before slicing\n",
        "input_sequences = np.array(input_sequences)\n",
        "\n",
        "# Inputs (X_gen): all tokens except the last one in each sequence\n",
        "X_gen = input_sequences[:, :-1]\n",
        "\n",
        "# Outputs (y_gen): the last token in each sequence\n",
        "y_gen = input_sequences[:, -1]\n",
        "\n",
        "# One-hot encode the output\n",
        "y_gen = tf.keras.utils.to_categorical(y_gen, num_classes=total_words)\n",
        "\n",
        "# Confirm shapes\n",
        "print(\"X_gen shape:\", X_gen.shape)\n",
        "print(\"y_gen shape after one-hot encoding:\", y_gen.shape)\n",
        "print(\"Example X_gen:\", X_gen[0])\n",
        "print(\"Example y_gen:\", y_gen[0][:10], \"...\")  # show first 10 elements\n"
      ]
    },
    {
      "cell_type": "markdown",
      "metadata": {
        "id": "4I5kvBTE2-6V"
      },
      "source": [
        "## Slogan Generator Architecture\n",
        "\n",
        "In the code cell that follows, configure the LSTM following these steps:\n",
        "\n",
        "1. Create a sequential model using `tf.keras.models.Sequential()`. This model will have an embedding layer, two LSTM layers, and a dense output layer.\n",
        "2. Add an embedding layer that converts words into dense vector representations. This layer should:\n",
        "> *   Have `total_words`as the vocabulary size.\n",
        "> *   Use 100 as an embedding dimension.\n",
        "> *   Takes an input length of `max_seq_len - 1` (excludes the target word).\n",
        "3. Add two LSTM layers.\n",
        "> *   The first LSTM layer should have 150 **and** set `return_sequences` to `True`.\n",
        "> *   The second LSTM layer should have 100 units.\n",
        "4. Add a dense output layer which:\n",
        "> *   Uses `total_words` as the number of units (one for each word in the vocabulary).\n",
        "> *   Uses a softmax activation function.\n",
        "5. Use `Sequential` to put everything together in the correct order to complete the architecture of the LSTM model called **gen_model**.\n"
      ]
    },
    {
      "cell_type": "code",
      "execution_count": 9,
      "metadata": {
        "colab": {
          "base_uri": "https://localhost:8080/",
          "height": 300
        },
        "id": "2WHpRBDI2_z4",
        "outputId": "afb63dcc-a28b-4f2c-d91c-eec2c029e92c"
      },
      "outputs": [
        {
          "output_type": "stream",
          "name": "stderr",
          "text": [
            "/usr/local/lib/python3.12/dist-packages/keras/src/layers/core/embedding.py:97: UserWarning: Argument `input_length` is deprecated. Just remove it.\n",
            "  warnings.warn(\n"
          ]
        },
        {
          "output_type": "display_data",
          "data": {
            "text/plain": [
              "\u001b[1mModel: \"sequential\"\u001b[0m\n"
            ],
            "text/html": [
              "<pre style=\"white-space:pre;overflow-x:auto;line-height:normal;font-family:Menlo,'DejaVu Sans Mono',consolas,'Courier New',monospace\"><span style=\"font-weight: bold\">Model: \"sequential\"</span>\n",
              "</pre>\n"
            ]
          },
          "metadata": {}
        },
        {
          "output_type": "display_data",
          "data": {
            "text/plain": [
              "┏━━━━━━━━━━━━━━━━━━━━━━━━━━━━━━━━━┳━━━━━━━━━━━━━━━━━━━━━━━━┳━━━━━━━━━━━━━━━┓\n",
              "┃\u001b[1m \u001b[0m\u001b[1mLayer (type)                   \u001b[0m\u001b[1m \u001b[0m┃\u001b[1m \u001b[0m\u001b[1mOutput Shape          \u001b[0m\u001b[1m \u001b[0m┃\u001b[1m \u001b[0m\u001b[1m      Param #\u001b[0m\u001b[1m \u001b[0m┃\n",
              "┡━━━━━━━━━━━━━━━━━━━━━━━━━━━━━━━━━╇━━━━━━━━━━━━━━━━━━━━━━━━╇━━━━━━━━━━━━━━━┩\n",
              "│ embedding (\u001b[38;5;33mEmbedding\u001b[0m)           │ ?                      │   \u001b[38;5;34m0\u001b[0m (unbuilt) │\n",
              "├─────────────────────────────────┼────────────────────────┼───────────────┤\n",
              "│ lstm (\u001b[38;5;33mLSTM\u001b[0m)                     │ ?                      │   \u001b[38;5;34m0\u001b[0m (unbuilt) │\n",
              "├─────────────────────────────────┼────────────────────────┼───────────────┤\n",
              "│ lstm_1 (\u001b[38;5;33mLSTM\u001b[0m)                   │ ?                      │   \u001b[38;5;34m0\u001b[0m (unbuilt) │\n",
              "├─────────────────────────────────┼────────────────────────┼───────────────┤\n",
              "│ dense (\u001b[38;5;33mDense\u001b[0m)                   │ ?                      │   \u001b[38;5;34m0\u001b[0m (unbuilt) │\n",
              "└─────────────────────────────────┴────────────────────────┴───────────────┘\n"
            ],
            "text/html": [
              "<pre style=\"white-space:pre;overflow-x:auto;line-height:normal;font-family:Menlo,'DejaVu Sans Mono',consolas,'Courier New',monospace\">┏━━━━━━━━━━━━━━━━━━━━━━━━━━━━━━━━━┳━━━━━━━━━━━━━━━━━━━━━━━━┳━━━━━━━━━━━━━━━┓\n",
              "┃<span style=\"font-weight: bold\"> Layer (type)                    </span>┃<span style=\"font-weight: bold\"> Output Shape           </span>┃<span style=\"font-weight: bold\">       Param # </span>┃\n",
              "┡━━━━━━━━━━━━━━━━━━━━━━━━━━━━━━━━━╇━━━━━━━━━━━━━━━━━━━━━━━━╇━━━━━━━━━━━━━━━┩\n",
              "│ embedding (<span style=\"color: #0087ff; text-decoration-color: #0087ff\">Embedding</span>)           │ ?                      │   <span style=\"color: #00af00; text-decoration-color: #00af00\">0</span> (unbuilt) │\n",
              "├─────────────────────────────────┼────────────────────────┼───────────────┤\n",
              "│ lstm (<span style=\"color: #0087ff; text-decoration-color: #0087ff\">LSTM</span>)                     │ ?                      │   <span style=\"color: #00af00; text-decoration-color: #00af00\">0</span> (unbuilt) │\n",
              "├─────────────────────────────────┼────────────────────────┼───────────────┤\n",
              "│ lstm_1 (<span style=\"color: #0087ff; text-decoration-color: #0087ff\">LSTM</span>)                   │ ?                      │   <span style=\"color: #00af00; text-decoration-color: #00af00\">0</span> (unbuilt) │\n",
              "├─────────────────────────────────┼────────────────────────┼───────────────┤\n",
              "│ dense (<span style=\"color: #0087ff; text-decoration-color: #0087ff\">Dense</span>)                   │ ?                      │   <span style=\"color: #00af00; text-decoration-color: #00af00\">0</span> (unbuilt) │\n",
              "└─────────────────────────────────┴────────────────────────┴───────────────┘\n",
              "</pre>\n"
            ]
          },
          "metadata": {}
        },
        {
          "output_type": "display_data",
          "data": {
            "text/plain": [
              "\u001b[1m Total params: \u001b[0m\u001b[38;5;34m0\u001b[0m (0.00 B)\n"
            ],
            "text/html": [
              "<pre style=\"white-space:pre;overflow-x:auto;line-height:normal;font-family:Menlo,'DejaVu Sans Mono',consolas,'Courier New',monospace\"><span style=\"font-weight: bold\"> Total params: </span><span style=\"color: #00af00; text-decoration-color: #00af00\">0</span> (0.00 B)\n",
              "</pre>\n"
            ]
          },
          "metadata": {}
        },
        {
          "output_type": "display_data",
          "data": {
            "text/plain": [
              "\u001b[1m Trainable params: \u001b[0m\u001b[38;5;34m0\u001b[0m (0.00 B)\n"
            ],
            "text/html": [
              "<pre style=\"white-space:pre;overflow-x:auto;line-height:normal;font-family:Menlo,'DejaVu Sans Mono',consolas,'Courier New',monospace\"><span style=\"font-weight: bold\"> Trainable params: </span><span style=\"color: #00af00; text-decoration-color: #00af00\">0</span> (0.00 B)\n",
              "</pre>\n"
            ]
          },
          "metadata": {}
        },
        {
          "output_type": "display_data",
          "data": {
            "text/plain": [
              "\u001b[1m Non-trainable params: \u001b[0m\u001b[38;5;34m0\u001b[0m (0.00 B)\n"
            ],
            "text/html": [
              "<pre style=\"white-space:pre;overflow-x:auto;line-height:normal;font-family:Menlo,'DejaVu Sans Mono',consolas,'Courier New',monospace\"><span style=\"font-weight: bold\"> Non-trainable params: </span><span style=\"color: #00af00; text-decoration-color: #00af00\">0</span> (0.00 B)\n",
              "</pre>\n"
            ]
          },
          "metadata": {}
        }
      ],
      "source": [
        "gen_model = Sequential()\n",
        "\n",
        "# 1. Embedding layer\n",
        "gen_model.add(\n",
        "    Embedding(\n",
        "        input_dim=total_words,      # vocabulary size\n",
        "        output_dim=100,             # embedding dimension\n",
        "        input_length=max_seq_len - 1  # length of X_gen sequences\n",
        "    )\n",
        ")\n",
        "\n",
        "# 2. First LSTM layer\n",
        "gen_model.add(\n",
        "    LSTM(150, return_sequences=True)\n",
        ")\n",
        "\n",
        "# 3. Second LSTM layer\n",
        "gen_model.add(\n",
        "    LSTM(100)\n",
        ")\n",
        "\n",
        "# 4. Dense output layer\n",
        "gen_model.add(\n",
        "    Dense(total_words, activation=\"softmax\")\n",
        ")\n",
        "\n",
        "gen_model.summary()\n",
        "\n"
      ]
    },
    {
      "cell_type": "markdown",
      "metadata": {
        "id": "-7ueerkx3kiI"
      },
      "source": [
        "In the code cell below, compile `gen_model` using `categorical_crossentropy` loss, an Adam optimiser, and an appropriate metric of your choice."
      ]
    },
    {
      "cell_type": "code",
      "execution_count": 10,
      "metadata": {
        "colab": {
          "base_uri": "https://localhost:8080/"
        },
        "id": "dp9mrClL3IJ_",
        "outputId": "6958f707-c011-450b-8dd0-b0dec679a211"
      },
      "outputs": [
        {
          "output_type": "stream",
          "name": "stdout",
          "text": [
            "gen_model compiled successfully.\n"
          ]
        }
      ],
      "source": [
        "# Compile the slogan generator model\n",
        "gen_model.compile(\n",
        "    loss=\"categorical_crossentropy\",\n",
        "    optimizer=Adam(),\n",
        "    metrics=[\"accuracy\"]\n",
        ")\n",
        "\n",
        "print(\"gen_model compiled successfully.\")\n"
      ]
    },
    {
      "cell_type": "markdown",
      "metadata": {
        "id": "HANPHOww327c"
      },
      "source": [
        "## Slogan Generation\n",
        "\n",
        "In the code cell below, fit the compiled model on the inputs and outputs, setting the **number of epochs to 50**."
      ]
    },
    {
      "cell_type": "code",
      "execution_count": 11,
      "metadata": {
        "colab": {
          "base_uri": "https://localhost:8080/",
          "height": 1000
        },
        "id": "T93uhHD836ey",
        "outputId": "9abc00aa-e008-43a2-f2c4-2e4b76b9bdea"
      },
      "outputs": [
        {
          "output_type": "stream",
          "name": "stdout",
          "text": [
            "Epoch 1/50\n",
            "\u001b[1m1086/1086\u001b[0m \u001b[32m━━━━━━━━━━━━━━━━━━━━\u001b[0m\u001b[37m\u001b[0m \u001b[1m75s\u001b[0m 65ms/step - accuracy: 0.0624 - loss: 7.3465\n",
            "Epoch 2/50\n",
            "\u001b[1m1086/1086\u001b[0m \u001b[32m━━━━━━━━━━━━━━━━━━━━\u001b[0m\u001b[37m\u001b[0m \u001b[1m70s\u001b[0m 64ms/step - accuracy: 0.0949 - loss: 6.4357\n",
            "Epoch 3/50\n",
            "\u001b[1m1086/1086\u001b[0m \u001b[32m━━━━━━━━━━━━━━━━━━━━\u001b[0m\u001b[37m\u001b[0m \u001b[1m71s\u001b[0m 65ms/step - accuracy: 0.1084 - loss: 6.3324\n",
            "Epoch 4/50\n",
            "\u001b[1m1086/1086\u001b[0m \u001b[32m━━━━━━━━━━━━━━━━━━━━\u001b[0m\u001b[37m\u001b[0m \u001b[1m78s\u001b[0m 72ms/step - accuracy: 0.1694 - loss: 5.7683\n",
            "Epoch 5/50\n",
            "\u001b[1m1086/1086\u001b[0m \u001b[32m━━━━━━━━━━━━━━━━━━━━\u001b[0m\u001b[37m\u001b[0m \u001b[1m74s\u001b[0m 68ms/step - accuracy: 0.1971 - loss: 5.4934\n",
            "Epoch 6/50\n",
            "\u001b[1m1086/1086\u001b[0m \u001b[32m━━━━━━━━━━━━━━━━━━━━\u001b[0m\u001b[37m\u001b[0m \u001b[1m71s\u001b[0m 66ms/step - accuracy: 0.2142 - loss: 5.2315\n",
            "Epoch 7/50\n",
            "\u001b[1m1086/1086\u001b[0m \u001b[32m━━━━━━━━━━━━━━━━━━━━\u001b[0m\u001b[37m\u001b[0m \u001b[1m73s\u001b[0m 67ms/step - accuracy: 0.2360 - loss: 4.9201\n",
            "Epoch 8/50\n",
            "\u001b[1m1086/1086\u001b[0m \u001b[32m━━━━━━━━━━━━━━━━━━━━\u001b[0m\u001b[37m\u001b[0m \u001b[1m72s\u001b[0m 67ms/step - accuracy: 0.2474 - loss: 4.6619\n",
            "Epoch 9/50\n",
            "\u001b[1m1086/1086\u001b[0m \u001b[32m━━━━━━━━━━━━━━━━━━━━\u001b[0m\u001b[37m\u001b[0m \u001b[1m71s\u001b[0m 66ms/step - accuracy: 0.2588 - loss: 4.4303\n",
            "Epoch 10/50\n",
            "\u001b[1m1086/1086\u001b[0m \u001b[32m━━━━━━━━━━━━━━━━━━━━\u001b[0m\u001b[37m\u001b[0m \u001b[1m70s\u001b[0m 65ms/step - accuracy: 0.2685 - loss: 4.2302\n",
            "Epoch 11/50\n",
            "\u001b[1m1086/1086\u001b[0m \u001b[32m━━━━━━━━━━━━━━━━━━━━\u001b[0m\u001b[37m\u001b[0m \u001b[1m82s\u001b[0m 65ms/step - accuracy: 0.2828 - loss: 4.0074\n",
            "Epoch 12/50\n",
            "\u001b[1m1086/1086\u001b[0m \u001b[32m━━━━━━━━━━━━━━━━━━━━\u001b[0m\u001b[37m\u001b[0m \u001b[1m81s\u001b[0m 64ms/step - accuracy: 0.3122 - loss: 3.7684\n",
            "Epoch 13/50\n",
            "\u001b[1m1086/1086\u001b[0m \u001b[32m━━━━━━━━━━━━━━━━━━━━\u001b[0m\u001b[37m\u001b[0m \u001b[1m71s\u001b[0m 65ms/step - accuracy: 0.3290 - loss: 3.6052\n",
            "Epoch 14/50\n",
            "\u001b[1m1086/1086\u001b[0m \u001b[32m━━━━━━━━━━━━━━━━━━━━\u001b[0m\u001b[37m\u001b[0m \u001b[1m71s\u001b[0m 65ms/step - accuracy: 0.3563 - loss: 3.4287\n",
            "Epoch 15/50\n",
            "\u001b[1m1086/1086\u001b[0m \u001b[32m━━━━━━━━━━━━━━━━━━━━\u001b[0m\u001b[37m\u001b[0m \u001b[1m71s\u001b[0m 65ms/step - accuracy: 0.3752 - loss: 3.2908\n",
            "Epoch 16/50\n",
            "\u001b[1m1086/1086\u001b[0m \u001b[32m━━━━━━━━━━━━━━━━━━━━\u001b[0m\u001b[37m\u001b[0m \u001b[1m71s\u001b[0m 65ms/step - accuracy: 0.4017 - loss: 3.1160\n",
            "Epoch 17/50\n",
            "\u001b[1m1086/1086\u001b[0m \u001b[32m━━━━━━━━━━━━━━━━━━━━\u001b[0m\u001b[37m\u001b[0m \u001b[1m71s\u001b[0m 65ms/step - accuracy: 0.4228 - loss: 3.0031\n",
            "Epoch 18/50\n",
            "\u001b[1m1086/1086\u001b[0m \u001b[32m━━━━━━━━━━━━━━━━━━━━\u001b[0m\u001b[37m\u001b[0m \u001b[1m73s\u001b[0m 67ms/step - accuracy: 0.4425 - loss: 2.8682\n",
            "Epoch 19/50\n",
            "\u001b[1m1086/1086\u001b[0m \u001b[32m━━━━━━━━━━━━━━━━━━━━\u001b[0m\u001b[37m\u001b[0m \u001b[1m71s\u001b[0m 66ms/step - accuracy: 0.4647 - loss: 2.7434\n",
            "Epoch 20/50\n",
            "\u001b[1m1086/1086\u001b[0m \u001b[32m━━━━━━━━━━━━━━━━━━━━\u001b[0m\u001b[37m\u001b[0m \u001b[1m71s\u001b[0m 66ms/step - accuracy: 0.4799 - loss: 2.6369\n",
            "Epoch 21/50\n",
            "\u001b[1m1086/1086\u001b[0m \u001b[32m━━━━━━━━━━━━━━━━━━━━\u001b[0m\u001b[37m\u001b[0m \u001b[1m81s\u001b[0m 65ms/step - accuracy: 0.4932 - loss: 2.5514\n",
            "Epoch 22/50\n",
            "\u001b[1m1086/1086\u001b[0m \u001b[32m━━━━━━━━━━━━━━━━━━━━\u001b[0m\u001b[37m\u001b[0m \u001b[1m71s\u001b[0m 65ms/step - accuracy: 0.5107 - loss: 2.4462\n",
            "Epoch 23/50\n",
            "\u001b[1m1086/1086\u001b[0m \u001b[32m━━━━━━━━━━━━━━━━━━━━\u001b[0m\u001b[37m\u001b[0m \u001b[1m71s\u001b[0m 65ms/step - accuracy: 0.5227 - loss: 2.3732\n",
            "Epoch 24/50\n",
            "\u001b[1m1086/1086\u001b[0m \u001b[32m━━━━━━━━━━━━━━━━━━━━\u001b[0m\u001b[37m\u001b[0m \u001b[1m70s\u001b[0m 64ms/step - accuracy: 0.5374 - loss: 2.2834\n",
            "Epoch 25/50\n",
            "\u001b[1m1086/1086\u001b[0m \u001b[32m━━━━━━━━━━━━━━━━━━━━\u001b[0m\u001b[37m\u001b[0m \u001b[1m70s\u001b[0m 65ms/step - accuracy: 0.5604 - loss: 2.1832\n",
            "Epoch 26/50\n",
            "\u001b[1m1086/1086\u001b[0m \u001b[32m━━━━━━━━━━━━━━━━━━━━\u001b[0m\u001b[37m\u001b[0m \u001b[1m82s\u001b[0m 65ms/step - accuracy: 0.5707 - loss: 2.1179\n",
            "Epoch 27/50\n",
            "\u001b[1m1086/1086\u001b[0m \u001b[32m━━━━━━━━━━━━━━━━━━━━\u001b[0m\u001b[37m\u001b[0m \u001b[1m70s\u001b[0m 65ms/step - accuracy: 0.5841 - loss: 2.0457\n",
            "Epoch 28/50\n",
            "\u001b[1m1086/1086\u001b[0m \u001b[32m━━━━━━━━━━━━━━━━━━━━\u001b[0m\u001b[37m\u001b[0m \u001b[1m86s\u001b[0m 68ms/step - accuracy: 0.6001 - loss: 1.9723\n",
            "Epoch 29/50\n",
            "\u001b[1m1086/1086\u001b[0m \u001b[32m━━━━━━━━━━━━━━━━━━━━\u001b[0m\u001b[37m\u001b[0m \u001b[1m83s\u001b[0m 76ms/step - accuracy: 0.6116 - loss: 1.9065\n",
            "Epoch 30/50\n",
            "\u001b[1m1086/1086\u001b[0m \u001b[32m━━━━━━━━━━━━━━━━━━━━\u001b[0m\u001b[37m\u001b[0m \u001b[1m72s\u001b[0m 66ms/step - accuracy: 0.6219 - loss: 1.8505\n",
            "Epoch 31/50\n",
            "\u001b[1m1086/1086\u001b[0m \u001b[32m━━━━━━━━━━━━━━━━━━━━\u001b[0m\u001b[37m\u001b[0m \u001b[1m81s\u001b[0m 66ms/step - accuracy: 0.6326 - loss: 1.8031\n",
            "Epoch 32/50\n",
            "\u001b[1m1086/1086\u001b[0m \u001b[32m━━━━━━━━━━━━━━━━━━━━\u001b[0m\u001b[37m\u001b[0m \u001b[1m71s\u001b[0m 66ms/step - accuracy: 0.6503 - loss: 1.7085\n",
            "Epoch 33/50\n",
            "\u001b[1m1086/1086\u001b[0m \u001b[32m━━━━━━━━━━━━━━━━━━━━\u001b[0m\u001b[37m\u001b[0m \u001b[1m81s\u001b[0m 65ms/step - accuracy: 0.6631 - loss: 1.6377\n",
            "Epoch 34/50\n",
            "\u001b[1m1086/1086\u001b[0m \u001b[32m━━━━━━━━━━━━━━━━━━━━\u001b[0m\u001b[37m\u001b[0m \u001b[1m72s\u001b[0m 66ms/step - accuracy: 0.6664 - loss: 1.6308\n",
            "Epoch 35/50\n",
            "\u001b[1m1086/1086\u001b[0m \u001b[32m━━━━━━━━━━━━━━━━━━━━\u001b[0m\u001b[37m\u001b[0m \u001b[1m72s\u001b[0m 66ms/step - accuracy: 0.6792 - loss: 1.5622\n",
            "Epoch 36/50\n",
            "\u001b[1m1086/1086\u001b[0m \u001b[32m━━━━━━━━━━━━━━━━━━━━\u001b[0m\u001b[37m\u001b[0m \u001b[1m72s\u001b[0m 66ms/step - accuracy: 0.6881 - loss: 1.5275\n",
            "Epoch 37/50\n",
            "\u001b[1m1086/1086\u001b[0m \u001b[32m━━━━━━━━━━━━━━━━━━━━\u001b[0m\u001b[37m\u001b[0m \u001b[1m72s\u001b[0m 66ms/step - accuracy: 0.7019 - loss: 1.4640\n",
            "Epoch 38/50\n",
            "\u001b[1m1086/1086\u001b[0m \u001b[32m━━━━━━━━━━━━━━━━━━━━\u001b[0m\u001b[37m\u001b[0m \u001b[1m71s\u001b[0m 65ms/step - accuracy: 0.7071 - loss: 1.4218\n",
            "Epoch 39/50\n",
            "\u001b[1m1086/1086\u001b[0m \u001b[32m━━━━━━━━━━━━━━━━━━━━\u001b[0m\u001b[37m\u001b[0m \u001b[1m71s\u001b[0m 65ms/step - accuracy: 0.7201 - loss: 1.3652\n",
            "Epoch 40/50\n",
            "\u001b[1m1086/1086\u001b[0m \u001b[32m━━━━━━━━━━━━━━━━━━━━\u001b[0m\u001b[37m\u001b[0m \u001b[1m81s\u001b[0m 65ms/step - accuracy: 0.7240 - loss: 1.3506\n",
            "Epoch 41/50\n",
            "\u001b[1m1086/1086\u001b[0m \u001b[32m━━━━━━━━━━━━━━━━━━━━\u001b[0m\u001b[37m\u001b[0m \u001b[1m70s\u001b[0m 64ms/step - accuracy: 0.7298 - loss: 1.3205\n",
            "Epoch 42/50\n",
            "\u001b[1m1086/1086\u001b[0m \u001b[32m━━━━━━━━━━━━━━━━━━━━\u001b[0m\u001b[37m\u001b[0m \u001b[1m71s\u001b[0m 65ms/step - accuracy: 0.7404 - loss: 1.2718\n",
            "Epoch 43/50\n",
            "\u001b[1m1086/1086\u001b[0m \u001b[32m━━━━━━━━━━━━━━━━━━━━\u001b[0m\u001b[37m\u001b[0m \u001b[1m71s\u001b[0m 65ms/step - accuracy: 0.7437 - loss: 1.2436\n",
            "Epoch 44/50\n",
            "\u001b[1m1086/1086\u001b[0m \u001b[32m━━━━━━━━━━━━━━━━━━━━\u001b[0m\u001b[37m\u001b[0m \u001b[1m71s\u001b[0m 65ms/step - accuracy: 0.7494 - loss: 1.2092\n",
            "Epoch 45/50\n",
            "\u001b[1m1086/1086\u001b[0m \u001b[32m━━━━━━━━━━━━━━━━━━━━\u001b[0m\u001b[37m\u001b[0m \u001b[1m72s\u001b[0m 67ms/step - accuracy: 0.7550 - loss: 1.1860\n",
            "Epoch 46/50\n",
            "\u001b[1m1086/1086\u001b[0m \u001b[32m━━━━━━━━━━━━━━━━━━━━\u001b[0m\u001b[37m\u001b[0m \u001b[1m71s\u001b[0m 65ms/step - accuracy: 0.7608 - loss: 1.1636\n",
            "Epoch 47/50\n",
            "\u001b[1m1086/1086\u001b[0m \u001b[32m━━━━━━━━━━━━━━━━━━━━\u001b[0m\u001b[37m\u001b[0m \u001b[1m70s\u001b[0m 65ms/step - accuracy: 0.7642 - loss: 1.1350\n",
            "Epoch 48/50\n",
            "\u001b[1m1086/1086\u001b[0m \u001b[32m━━━━━━━━━━━━━━━━━━━━\u001b[0m\u001b[37m\u001b[0m \u001b[1m82s\u001b[0m 65ms/step - accuracy: 0.7686 - loss: 1.1108\n",
            "Epoch 49/50\n",
            "\u001b[1m1086/1086\u001b[0m \u001b[32m━━━━━━━━━━━━━━━━━━━━\u001b[0m\u001b[37m\u001b[0m \u001b[1m70s\u001b[0m 65ms/step - accuracy: 0.7722 - loss: 1.0948\n",
            "Epoch 50/50\n",
            "\u001b[1m1086/1086\u001b[0m \u001b[32m━━━━━━━━━━━━━━━━━━━━\u001b[0m\u001b[37m\u001b[0m \u001b[1m71s\u001b[0m 65ms/step - accuracy: 0.7755 - loss: 1.0602\n"
          ]
        },
        {
          "output_type": "display_data",
          "data": {
            "text/plain": [
              "<Figure size 800x400 with 1 Axes>"
            ],
            "image/png": "[encoded data removed]"
          },
          "metadata": {}
        }
      ],
      "source": [
        "# Train the slogan generator model\n",
        "history_gen = gen_model.fit(\n",
        "    X_gen,\n",
        "    y_gen,\n",
        "    epochs=50,\n",
        "    verbose=1\n",
        ")\n",
        "\n",
        "import matplotlib.pyplot as plt\n",
        "\n",
        "plt.figure(figsize=(8,4))\n",
        "plt.plot(history_gen.history['accuracy'], label='Accuracy')\n",
        "plt.plot(history_gen.history['loss'], label='Loss')\n",
        "plt.title('Slogan Generator Training Progress')\n",
        "plt.xlabel('Epoch')\n",
        "plt.ylabel('Value')\n",
        "plt.legend()\n",
        "plt.show()\n"
      ]
    },
    {
      "cell_type": "markdown",
      "metadata": {
        "id": "VTTAOkf-4PWS"
      },
      "source": [
        "We will now define a function called `generate_slogan` which will generate a slogan by predicting one word at a time based on a given starting phrase (the `seed_text`). This function will do this using our trained model, `gen_model`.\n",
        "\n",
        "Here is a breakdown of how the algorithm works:  \n",
        "\n",
        "Let us assume the dictionary mapping words to unique indices, `tokenizer.word_index`, looks like this:\n",
        "\n",
        "> `{'computer': 1, 'hardware': 2, 'taking': 3, 'care': 4, 'of': 5}`\n",
        "\n",
        "If the model's predicted index for the next word is 3 (`predicted_index = 3`), the loop will:\n",
        "\n",
        "> Check 'computer' (index 1) → No match  \n",
        "> Check 'hardware' (index 2) → No match  \n",
        "> Check 'taking' (index 3) → Match found!  \n",
        "> Assign output_word = \"taking\" and exit the loop.  \n",
        "\n",
        "The `output_word` will be appended to the `seed_text`, and the process will continue to add words to the `seed_text` until we have reached the maximum number of words **or** an invalid prediction occurs.  \n",
        "\n",
        "Carefully follow the code below and complete the missing parts as guided by the comments."
      ]
    },
    {
      "cell_type": "code",
      "execution_count": 12,
      "metadata": {
        "id": "W-XTej2-4TTg"
      },
      "outputs": [],
      "source": [
        "def generate_slogan(seed_text, max_words=20):\n",
        "    # We'll keep extending seed_text by predicting one word at a time\n",
        "    for _ in range(max_words):\n",
        "\n",
        "        # Tokenise the current text and turn it into a sequence of word indices\n",
        "        token_list = tokenizer.texts_to_sequences([seed_text])[0]\n",
        "\n",
        "        # Pad that sequence so it matches the input length the model was trained on\n",
        "        token_list = pad_sequences(\n",
        "            [token_list],\n",
        "            maxlen=max_seq_len - 1,\n",
        "            padding=\"pre\"\n",
        "        )\n",
        "\n",
        "        # Predict the probability distribution for the next word\n",
        "        predictions = gen_model.predict(token_list, verbose=0)\n",
        "\n",
        "        # Pick the most likely next word index\n",
        "        predicted_index = np.argmax(predictions, axis=1)[0]\n",
        "\n",
        "        output_word = None\n",
        "\n",
        "        # Map that predicted index back to the actual word\n",
        "        for word, index in tokenizer.word_index.items():\n",
        "            if index == predicted_index:\n",
        "                output_word = word\n",
        "                break\n",
        "\n",
        "        # If you can't find a word for that index, stop generating\n",
        "        if output_word is None:\n",
        "            break\n",
        "\n",
        "        # Append the predicted word to the growing seed_text\n",
        "        # Two equivalent ways\n",
        "        # seed_text = seed_text + \" \" + output_word\n",
        "        seed_text += \" \" + output_word\n",
        "\n",
        "    return seed_text\n"
      ]
    },
    {
      "cell_type": "markdown",
      "metadata": {
        "id": "ZxyRqlAA490Z"
      },
      "source": [
        "## Training Data for Slogan Classifier\n",
        "\n",
        "We will now prepare the data we will use to train our classifier. For our classifier, the inputs will come from the `processed_slogans` column of our DataFrame, `df`. The outputs will be the different industry categories under the `industry` column.\n",
        "\n",
        "In the code cell below, extract the unique values from the `industry` column in the DataFrame and store these in a variable called **industries**."
      ]
    },
    {
      "cell_type": "code",
      "execution_count": 13,
      "metadata": {
        "colab": {
          "base_uri": "https://localhost:8080/"
        },
        "id": "Zq47V49N5Dve",
        "outputId": "37251b47-9b5c-474a-d099-1a076ff1425b"
      },
      "outputs": [
        {
          "output_type": "stream",
          "name": "stdout",
          "text": [
            "Number of unique industries: 142\n",
            "Sample industries: ['computer hardware' 'health, wellness and fitness' 'internet'\n",
            " 'financial services' 'mechanical or industrial engineering'\n",
            " 'marketing and advertising' 'hospital & health care' 'research'\n",
            " 'information technology and services' 'computer software']\n"
          ]
        }
      ],
      "source": [
        "# Extract the unique industry values from the DataFrame\n",
        "industries = df[\"industry\"].unique()\n",
        "\n",
        "# Display the industries and how many there are\n",
        "print(\"Number of unique industries:\", len(industries))\n",
        "print(\"Sample industries:\", industries[:10])\n"
      ]
    },
    {
      "cell_type": "markdown",
      "metadata": {
        "id": "HSbq8Lef5Hlw"
      },
      "source": [
        "Create a dictionary called `industry_to_index` where each unique industry is mapped to a unique index starting from 0.\n",
        "\n",
        "*Hint: Use the `enumerate()` function.*"
      ]
    },
    {
      "cell_type": "code",
      "execution_count": 14,
      "metadata": {
        "colab": {
          "base_uri": "https://localhost:8080/"
        },
        "id": "F8yUsPcz5MD2",
        "outputId": "4205d8f4-8c66-4946-a7d4-1c4b86696740"
      },
      "outputs": [
        {
          "output_type": "stream",
          "name": "stdout",
          "text": [
            "Industry to Index mapping (sample):\n",
            "computer hardware: 0\n",
            "health, wellness and fitness: 1\n",
            "internet: 2\n",
            "financial services: 3\n",
            "mechanical or industrial engineering: 4\n",
            "marketing and advertising: 5\n",
            "hospital & health care: 6\n",
            "research: 7\n",
            "information technology and services: 8\n",
            "computer software: 9\n"
          ]
        }
      ],
      "source": [
        "# Create a dictionary that maps each industry to a unique index\n",
        "industry_to_index = {industry: idx for idx, industry in enumerate(industries)}\n",
        "\n",
        "# Display the mapping\n",
        "print(\"Industry to Index mapping (sample):\")\n",
        "for i, (industry, idx) in enumerate(industry_to_index.items()):\n",
        "    print(f\"{industry}: {idx}\")\n",
        "    if i >= 9:  # show only first 10\n",
        "        break\n"
      ]
    },
    {
      "cell_type": "markdown",
      "metadata": {
        "id": "rX8kutHL5VeN"
      },
      "source": [
        "Create a new column `industry_index` in your DataFrame by mapping the `industry` column to the indices using the `industry_to_index` dictionary.\n",
        "\n",
        "*Hint: Use the  `map()` function.*"
      ]
    },
    {
      "cell_type": "code",
      "execution_count": 15,
      "metadata": {
        "colab": {
          "base_uri": "https://localhost:8080/",
          "height": 381
        },
        "id": "Y48jj8fq5VAm",
        "outputId": "6e51484d-38ec-4ca2-f36a-604f8ebe39a9"
      },
      "outputs": [
        {
          "output_type": "stream",
          "name": "stdout",
          "text": [
            "Added 'industry_index' column successfully!\n"
          ]
        },
        {
          "output_type": "execute_result",
          "data": {
            "text/plain": [
              "                               industry  industry_index\n",
              "0                     computer hardware               0\n",
              "1          health, wellness and fitness               1\n",
              "2                              internet               2\n",
              "3                              internet               2\n",
              "4                    financial services               3\n",
              "5  mechanical or industrial engineering               4\n",
              "6             marketing and advertising               5\n",
              "7                hospital & health care               6\n",
              "8                              research               7\n",
              "9   information technology and services               8"
            ],
            "text/html": [
              "\n",
              "  <div id=\"df-0f0baaae-fd39-44ca-ab16-77791adc0340\" class=\"colab-df-container\">\n",
              "    <div>\n",
              "<style scoped>\n",
              "    .dataframe tbody tr th:only-of-type {\n",
              "        vertical-align: middle;\n",
              "    }\n",
              "\n",
              "    .dataframe tbody tr th {\n",
              "        vertical-align: top;\n",
              "    }\n",
              "\n",
              "    .dataframe thead th {\n",
              "        text-align: right;\n",
              "    }\n",
              "</style>\n",
              "<table border=\"1\" class=\"dataframe\">\n",
              "  <thead>\n",
              "    <tr style=\"text-align: right;\">\n",
              "      <th></th>\n",
              "      <th>industry</th>\n",
              "      <th>industry_index</th>\n",
              "    </tr>\n",
              "  </thead>\n",
              "  <tbody>\n",
              "    <tr>\n",
              "      <th>0</th>\n",
              "      <td>computer hardware</td>\n",
              "      <td>0</td>\n",
              "    </tr>\n",
              "    <tr>\n",
              "      <th>1</th>\n",
              "      <td>health, wellness and fitness</td>\n",
              "      <td>1</td>\n",
              "    </tr>\n",
              "    <tr>\n",
              "      <th>2</th>\n",
              "      <td>internet</td>\n",
              "      <td>2</td>\n",
              "    </tr>\n",
              "    <tr>\n",
              "      <th>3</th>\n",
              "      <td>internet</td>\n",
              "      <td>2</td>\n",
              "    </tr>\n",
              "    <tr>\n",
              "      <th>4</th>\n",
              "      <td>financial services</td>\n",
              "      <td>3</td>\n",
              "    </tr>\n",
              "    <tr>\n",
              "      <th>5</th>\n",
              "      <td>mechanical or industrial engineering</td>\n",
              "      <td>4</td>\n",
              "    </tr>\n",
              "    <tr>\n",
              "      <th>6</th>\n",
              "      <td>marketing and advertising</td>\n",
              "      <td>5</td>\n",
              "    </tr>\n",
              "    <tr>\n",
              "      <th>7</th>\n",
              "      <td>hospital &amp; health care</td>\n",
              "      <td>6</td>\n",
              "    </tr>\n",
              "    <tr>\n",
              "      <th>8</th>\n",
              "      <td>research</td>\n",
              "      <td>7</td>\n",
              "    </tr>\n",
              "    <tr>\n",
              "      <th>9</th>\n",
              "      <td>information technology and services</td>\n",
              "      <td>8</td>\n",
              "    </tr>\n",
              "  </tbody>\n",
              "</table>\n",
              "</div>\n",
              "    <div class=\"colab-df-buttons\">\n",
              "\n",
              "  <div class=\"colab-df-container\">\n",
              "    <button class=\"colab-df-convert\" onclick=\"convertToInteractive('df-0f0baaae-fd39-44ca-ab16-77791adc0340')\"\n",
              "            title=\"Convert this dataframe to an interactive table.\"\n",
              "            style=\"display:none;\">\n",
              "\n",
              "  <svg xmlns=\"http://www.w3.org/2000/svg\" height=\"24px\" viewBox=\"0 -960 960 960\">\n",
              "    <path d=\"M120-120v-720h720v720H120Zm60-500h600v-160H180v160Zm220 220h160v-160H400v160Zm0 220h160v-160H400v160ZM180-400h160v-160H180v160Zm440 0h160v-160H620v160ZM180-180h160v-160H180v160Zm440 0h160v-160H620v160Z\"/>\n",
              "  </svg>\n",
              "    </button>\n",
              "\n",
              "  <style>\n",
              "    .colab-df-container {\n",
              "      display:flex;\n",
              "      gap: 12px;\n",
              "    }\n",
              "\n",
              "    .colab-df-convert {\n",
              "      background-color: #E8F0FE;\n",
              "      border: none;\n",
              "      border-radius: 50%;\n",
              "      cursor: pointer;\n",
              "      display: none;\n",
              "      fill: #1967D2;\n",
              "      height: 32px;\n",
              "      padding: 0 0 0 0;\n",
              "      width: 32px;\n",
              "    }\n",
              "\n",
              "    .colab-df-convert:hover {\n",
              "      background-color: #E2EBFA;\n",
              "      box-shadow: 0px 1px 2px rgba(60, 64, 67, 0.3), 0px 1px 3px 1px rgba(60, 64, 67, 0.15);\n",
              "      fill: #174EA6;\n",
              "    }\n",
              "\n",
              "    .colab-df-buttons div {\n",
              "      margin-bottom: 4px;\n",
              "    }\n",
              "\n",
              "    [theme=dark] .colab-df-convert {\n",
              "      background-color: #3B4455;\n",
              "      fill: #D2E3FC;\n",
              "    }\n",
              "\n",
              "    [theme=dark] .colab-df-convert:hover {\n",
              "      background-color: #434B5C;\n",
              "      box-shadow: 0px 1px 3px 1px rgba(0, 0, 0, 0.15);\n",
              "      filter: drop-shadow(0px 1px 2px rgba(0, 0, 0, 0.3));\n",
              "      fill: #FFFFFF;\n",
              "    }\n",
              "  </style>\n",
              "\n",
              "    <script>\n",
              "      const buttonEl =\n",
              "        document.querySelector('#df-0f0baaae-fd39-44ca-ab16-77791adc0340 button.colab-df-convert');\n",
              "      buttonEl.style.display =\n",
              "        google.colab.kernel.accessAllowed ? 'block' : 'none';\n",
              "\n",
              "      async function convertToInteractive(key) {\n",
              "        const element = document.querySelector('#df-0f0baaae-fd39-44ca-ab16-77791adc0340');\n",
              "        const dataTable =\n",
              "          await google.colab.kernel.invokeFunction('convertToInteractive',\n",
              "                                                    [key], {});\n",
              "        if (!dataTable) return;\n",
              "\n",
              "        const docLinkHtml = 'Like what you see? Visit the ' +\n",
              "          '<a target=\"_blank\" href=https://colab.research.google.com/notebooks/data_table.ipynb>data table notebook</a>'\n",
              "          + ' to learn more about interactive tables.';\n",
              "        element.innerHTML = '';\n",
              "        dataTable['output_type'] = 'display_data';\n",
              "        await google.colab.output.renderOutput(dataTable, element);\n",
              "        const docLink = document.createElement('div');\n",
              "        docLink.innerHTML = docLinkHtml;\n",
              "        element.appendChild(docLink);\n",
              "      }\n",
              "    </script>\n",
              "  </div>\n",
              "\n",
              "\n",
              "    <div id=\"df-4defcaa5-7ec2-4325-9b3d-c68e30e3857f\">\n",
              "      <button class=\"colab-df-quickchart\" onclick=\"quickchart('df-4defcaa5-7ec2-4325-9b3d-c68e30e3857f')\"\n",
              "                title=\"Suggest charts\"\n",
              "                style=\"display:none;\">\n",
              "\n",
              "<svg xmlns=\"http://www.w3.org/2000/svg\" height=\"24px\"viewBox=\"0 0 24 24\"\n",
              "     width=\"24px\">\n",
              "    <g>\n",
              "        <path d=\"M19 3H5c-1.1 0-2 .9-2 2v14c0 1.1.9 2 2 2h14c1.1 0 2-.9 2-2V5c0-1.1-.9-2-2-2zM9 17H7v-7h2v7zm4 0h-2V7h2v10zm4 0h-2v-4h2v4z\"/>\n",
              "    </g>\n",
              "</svg>\n",
              "      </button>\n",
              "\n",
              "<style>\n",
              "  .colab-df-quickchart {\n",
              "      --bg-color: #E8F0FE;\n",
              "      --fill-color: #1967D2;\n",
              "      --hover-bg-color: #E2EBFA;\n",
              "      --hover-fill-color: #174EA6;\n",
              "      --disabled-fill-color: #AAA;\n",
              "      --disabled-bg-color: #DDD;\n",
              "  }\n",
              "\n",
              "  [theme=dark] .colab-df-quickchart {\n",
              "      --bg-color: #3B4455;\n",
              "      --fill-color: #D2E3FC;\n",
              "      --hover-bg-color: #434B5C;\n",
              "      --hover-fill-color: #FFFFFF;\n",
              "      --disabled-bg-color: #3B4455;\n",
              "      --disabled-fill-color: #666;\n",
              "  }\n",
              "\n",
              "  .colab-df-quickchart {\n",
              "    background-color: var(--bg-color);\n",
              "    border: none;\n",
              "    border-radius: 50%;\n",
              "    cursor: pointer;\n",
              "    display: none;\n",
              "    fill: var(--fill-color);\n",
              "    height: 32px;\n",
              "    padding: 0;\n",
              "    width: 32px;\n",
              "  }\n",
              "\n",
              "  .colab-df-quickchart:hover {\n",
              "    background-color: var(--hover-bg-color);\n",
              "    box-shadow: 0 1px 2px rgba(60, 64, 67, 0.3), 0 1px 3px 1px rgba(60, 64, 67, 0.15);\n",
              "    fill: var(--button-hover-fill-color);\n",
              "  }\n",
              "\n",
              "  .colab-df-quickchart-complete:disabled,\n",
              "  .colab-df-quickchart-complete:disabled:hover {\n",
              "    background-color: var(--disabled-bg-color);\n",
              "    fill: var(--disabled-fill-color);\n",
              "    box-shadow: none;\n",
              "  }\n",
              "\n",
              "  .colab-df-spinner {\n",
              "    border: 2px solid var(--fill-color);\n",
              "    border-color: transparent;\n",
              "    border-bottom-color: var(--fill-color);\n",
              "    animation:\n",
              "      spin 1s steps(1) infinite;\n",
              "  }\n",
              "\n",
              "  @keyframes spin {\n",
              "    0% {\n",
              "      border-color: transparent;\n",
              "      border-bottom-color: var(--fill-color);\n",
              "      border-left-color: var(--fill-color);\n",
              "    }\n",
              "    20% {\n",
              "      border-color: transparent;\n",
              "      border-left-color: var(--fill-color);\n",
              "      border-top-color: var(--fill-color);\n",
              "    }\n",
              "    30% {\n",
              "      border-color: transparent;\n",
              "      border-left-color: var(--fill-color);\n",
              "      border-top-color: var(--fill-color);\n",
              "      border-right-color: var(--fill-color);\n",
              "    }\n",
              "    40% {\n",
              "      border-color: transparent;\n",
              "      border-right-color: var(--fill-color);\n",
              "      border-top-color: var(--fill-color);\n",
              "    }\n",
              "    60% {\n",
              "      border-color: transparent;\n",
              "      border-right-color: var(--fill-color);\n",
              "    }\n",
              "    80% {\n",
              "      border-color: transparent;\n",
              "      border-right-color: var(--fill-color);\n",
              "      border-bottom-color: var(--fill-color);\n",
              "    }\n",
              "    90% {\n",
              "      border-color: transparent;\n",
              "      border-bottom-color: var(--fill-color);\n",
              "    }\n",
              "  }\n",
              "</style>\n",
              "\n",
              "      <script>\n",
              "        async function quickchart(key) {\n",
              "          const quickchartButtonEl =\n",
              "            document.querySelector('#' + key + ' button');\n",
              "          quickchartButtonEl.disabled = true;  // To prevent multiple clicks.\n",
              "          quickchartButtonEl.classList.add('colab-df-spinner');\n",
              "          try {\n",
              "            const charts = await google.colab.kernel.invokeFunction(\n",
              "                'suggestCharts', [key], {});\n",
              "          } catch (error) {\n",
              "            console.error('Error during call to suggestCharts:', error);\n",
              "          }\n",
              "          quickchartButtonEl.classList.remove('colab-df-spinner');\n",
              "          quickchartButtonEl.classList.add('colab-df-quickchart-complete');\n",
              "        }\n",
              "        (() => {\n",
              "          let quickchartButtonEl =\n",
              "            document.querySelector('#df-4defcaa5-7ec2-4325-9b3d-c68e30e3857f button');\n",
              "          quickchartButtonEl.style.display =\n",
              "            google.colab.kernel.accessAllowed ? 'block' : 'none';\n",
              "        })();\n",
              "      </script>\n",
              "    </div>\n",
              "\n",
              "    </div>\n",
              "  </div>\n"
            ],
            "application/vnd.google.colaboratory.intrinsic+json": {
              "type": "dataframe",
              "summary": "{\n  \"name\": \"df[[\\\"industry\\\", \\\"industry_index\\\"]]\",\n  \"rows\": 10,\n  \"fields\": [\n    {\n      \"column\": \"industry\",\n      \"properties\": {\n        \"dtype\": \"string\",\n        \"num_unique_values\": 9,\n        \"samples\": [\n          \"research\",\n          \"health, wellness and fitness\",\n          \"marketing and advertising\"\n        ],\n        \"semantic_type\": \"\",\n        \"description\": \"\"\n      }\n    },\n    {\n      \"column\": \"industry_index\",\n      \"properties\": {\n        \"dtype\": \"number\",\n        \"std\": 2,\n        \"min\": 0,\n        \"max\": 8,\n        \"num_unique_values\": 9,\n        \"samples\": [\n          7,\n          1,\n          5\n        ],\n        \"semantic_type\": \"\",\n        \"description\": \"\"\n      }\n    }\n  ]\n}"
            }
          },
          "metadata": {},
          "execution_count": 15
        }
      ],
      "source": [
        "# Map the 'industry' column to numeric indices using the dictionary\n",
        "df[\"industry_index\"] = df[\"industry\"].map(industry_to_index)\n",
        "\n",
        "# Quick check\n",
        "print(\"Added 'industry_index' column successfully!\")\n",
        "df[[\"industry\", \"industry_index\"]].head(10)\n"
      ]
    },
    {
      "cell_type": "markdown",
      "metadata": {
        "id": "_o7fCVh_5i_k"
      },
      "source": [
        "Split the DataFrame `df` into training and testing sets, setting aside 20% of the data for the test set. Be sure to set the parameter `stratify=df[\"industry_index\"]`. This ensures that both sets have the same proportion of each class (industry) as in the original dataset, resulting in balanced datasets. Call the training DataFrame `df_train` and the testing DataFrame `df_test`."
      ]
    },
    {
      "cell_type": "code",
      "execution_count": 17,
      "metadata": {
        "colab": {
          "base_uri": "https://localhost:8080/"
        },
        "id": "1rNsB2Ar5js3",
        "outputId": "bc7836ad-b232-4fde-a460-589c0fa72645"
      },
      "outputs": [
        {
          "output_type": "stream",
          "name": "stdout",
          "text": [
            "Training set size: (4272, 5)\n",
            "Testing set size: (1068, 5)\n"
          ]
        }
      ],
      "source": [
        "from sklearn.model_selection import train_test_split\n",
        "\n",
        "# Remove industries that have fewer than 2 samples\n",
        "df = df.groupby(\"industry\").filter(lambda x: len(x) > 1)\n",
        "\n",
        "# Now split again with stratify\n",
        "df_train, df_test = train_test_split(\n",
        "    df,\n",
        "    test_size=0.20,\n",
        "    random_state=42,\n",
        "    stratify=df[\"industry_index\"]\n",
        ")\n",
        "\n",
        "print(\"Training set size:\", df_train.shape)\n",
        "print(\"Testing set size:\", df_test.shape)\n",
        "\n"
      ]
    },
    {
      "cell_type": "markdown",
      "metadata": {
        "id": "r_cAYRSO5urT"
      },
      "source": [
        "Our classifier will use padded slogan sequences as inputs, similar to input sequences used for the slogan generator. The difference is we will not use sequences that get progressively longer, but instead we will use **complete slogans**. This is because our classifier does not need to learn how to predict what word comes next. It needs the full context of a slogan to learn how to accurately predict the industry.  \n",
        "\n",
        "The next steps will walk you through how to create these sequences.  "
      ]
    },
    {
      "cell_type": "code",
      "execution_count": 18,
      "metadata": {
        "colab": {
          "base_uri": "https://localhost:8080/"
        },
        "id": "DeqycfOS54o6",
        "outputId": "ab6695f4-c85d-4088-a33b-550acbd31500"
      },
      "outputs": [
        {
          "output_type": "stream",
          "name": "stdout",
          "text": [
            "Example training slogan (text): play video games online for money\n",
            "Converted to sequence: [1091, 167, 209, 33, 4, 583]\n",
            "\n",
            "Number of training sequences: 4272\n",
            "Number of testing sequences: 1068\n"
          ]
        }
      ],
      "source": [
        "# Convert processed slogans into numerical sequences using the same tokenizer\n",
        "X_train = tokenizer.texts_to_sequences(df_train[\"processed_slogan\"])\n",
        "X_test = tokenizer.texts_to_sequences(df_test[\"processed_slogan\"])\n",
        "\n",
        "# Quick check\n",
        "print(\"Example training slogan (text):\", df_train[\"processed_slogan\"].iloc[0])\n",
        "print(\"Converted to sequence:\", X_train[0][:15])  # show first 15 token IDs\n",
        "print(\"\\nNumber of training sequences:\", len(X_train))\n",
        "print(\"Number of testing sequences:\", len(X_test))\n"
      ]
    },
    {
      "cell_type": "markdown",
      "metadata": {
        "id": "6krxhze_59xC"
      },
      "source": [
        "The slogan sequences are of varying lengths. We will need to pad them the same way we did to the input sequences for the slogan generator. The `pad_sequences()` function can ensure the sequences in `slogan_sequences` have the same length.  \n",
        "\n",
        "In the code cell below, use the `pad_sequences()` function to standardise the `slogan_sequences` lengths. Set the `maxlen` parameter to `max_seq_len`, the `padding` parameter to 0, and assign the resulting padded sequences to the same variables, `X_train` and `X_test`."
      ]
    },
    {
      "cell_type": "code",
      "execution_count": 19,
      "metadata": {
        "colab": {
          "base_uri": "https://localhost:8080/"
        },
        "id": "rVGbiD075-gN",
        "outputId": "0a6f1c87-7409-4463-f3e6-eb3f2a0ce948"
      },
      "outputs": [
        {
          "output_type": "stream",
          "name": "stdout",
          "text": [
            "Padded X_train shape: (4272, 15)\n",
            "Padded X_test shape: (1068, 15)\n",
            "Example padded sequence:\n",
            " [   0    0    0    0    0    0    0    0    0 1091  167  209   33    4\n",
            "  583]\n"
          ]
        }
      ],
      "source": [
        "\n",
        "# Pad all sequences so they have equal length\n",
        "X_train = pad_sequences(X_train, maxlen=max_seq_len, padding=\"pre\")\n",
        "X_test = pad_sequences(X_test, maxlen=max_seq_len, padding=\"pre\")\n",
        "\n",
        "# Quick check\n",
        "print(\"Padded X_train shape:\", X_train.shape)\n",
        "print(\"Padded X_test shape:\", X_test.shape)\n",
        "print(\"Example padded sequence:\\n\", X_train[0])\n"
      ]
    },
    {
      "cell_type": "markdown",
      "metadata": {
        "id": "JX7Nutk-6TCh"
      },
      "source": [
        "We have successfully created training and testing inputs for our model. Now, we will create the outputs - industry categories.\n",
        "\n",
        " In the code cell that follows, use `tf.keras.utils.to_categorical()` to apply one-hot encoding to the `industry_index` column of **both** `df_train` and `df_test` DataFrames. Assign the results to a variables named `y_train` and `y_test`.\n",
        "\n",
        " *Hint: set the `num_classes` parameter to the total number of industries in the DataFrame. The `industries` variable can be used to find this value.*"
      ]
    },
    {
      "cell_type": "code",
      "execution_count": 20,
      "metadata": {
        "colab": {
          "base_uri": "https://localhost:8080/"
        },
        "id": "fmRD4Oqa6T3i",
        "outputId": "7419956a-9a1d-4438-d1f6-06b7c551ee27"
      },
      "outputs": [
        {
          "output_type": "stream",
          "name": "stdout",
          "text": [
            "y_train shape: (4272, 142)\n",
            "y_test shape: (1068, 142)\n",
            "Example one-hot encoded row: [0. 0. 0. 0. 0. 0. 0. 0. 0. 0. 0. 0. 0. 0. 0. 0. 0. 0. 0. 0. 0. 0. 0. 0.\n",
            " 0. 0. 0. 0. 0. 0. 0. 0. 0. 0. 0. 0. 0. 0. 0. 0. 0. 0. 0. 0. 0. 0. 0. 0.\n",
            " 0. 0. 0. 0. 0. 0. 0. 0. 0. 0. 0. 0. 0. 0. 0. 0. 0. 0. 0. 0. 0. 0. 0. 0.\n",
            " 0. 0. 0. 0. 0. 0. 0. 0. 0. 0. 0. 0. 0. 0. 0. 0. 0. 0. 0. 0. 0. 0. 0. 0.\n",
            " 0. 0. 0. 0. 1. 0. 0. 0. 0. 0. 0. 0. 0. 0. 0. 0. 0. 0. 0. 0. 0. 0. 0. 0.\n",
            " 0. 0. 0. 0. 0. 0. 0. 0. 0. 0. 0. 0. 0. 0. 0. 0. 0. 0. 0. 0. 0. 0.]\n"
          ]
        }
      ],
      "source": [
        "# Number of unique industries\n",
        "num_industries = len(industries)\n",
        "\n",
        "# One-hot encode the industry indices for training and testing\n",
        "y_train = tf.keras.utils.to_categorical(df_train[\"industry_index\"], num_classes=num_industries)\n",
        "y_test = tf.keras.utils.to_categorical(df_test[\"industry_index\"], num_classes=num_industries)\n",
        "\n",
        "# Quick check\n",
        "print(\"y_train shape:\", y_train.shape)\n",
        "print(\"y_test shape:\", y_test.shape)\n",
        "print(\"Example one-hot encoded row:\", y_train[0])\n"
      ]
    },
    {
      "cell_type": "markdown",
      "metadata": {
        "id": "SyxsBg4h6pHP"
      },
      "source": [
        "## Slogan Classifier Architecture\n",
        "\n",
        "Configure the LSTM classifier following these steps:  \n",
        "\n",
        "\n",
        "1. Create a Sequential model:  \n",
        "   Use `tf.keras.models.Sequential()` to create a sequential model. This model will consist of an embedding layer, two LSTM layers, and a dense output layer.\n",
        "\n",
        "2. Add an embedding layer which will convert words into dense vector representations. Configure this layer with:\n",
        "   > * `total_words` as the vocabulary size.\n",
        "   > * 100 as the embedding dimension.\n",
        "   > * `max_seq_len` as the `input_length` (this is the length of the slogans).\n",
        "\n",
        "3. Add the first LSTM layer. Configure it with:\n",
        "   > * 150 units.\n",
        "   > * Set `return_sequences` to `True` to ensure the layer outputs sequences for the next LSTM layer.\n",
        "\n",
        "4. Add the second LSTM layer which will process the output from the previous LSTM layer. Configure it with:\n",
        "   > * 100 units.\n",
        "   > * No need to set `return_sequences` here (it is the final LSTM layer).\n",
        "\n",
        "5. Add the dense output layer which will classify the data into industries. Configure it with:\n",
        "   > * The number of unique industries as the number of units.\n",
        "   > * The `softmax` activation function to get probabilities for each class (industry).\n",
        "\n",
        "6. Use `Sequential` to arrange all layers in the correct order and complete the architecture of the LSTM model called **class_model**.\n"
      ]
    },
    {
      "cell_type": "code",
      "execution_count": 21,
      "metadata": {
        "colab": {
          "base_uri": "https://localhost:8080/",
          "height": 300
        },
        "id": "5Tk36uJv6pvJ",
        "outputId": "f88d4372-1064-4e23-d834-34a96d359c91"
      },
      "outputs": [
        {
          "output_type": "stream",
          "name": "stderr",
          "text": [
            "/usr/local/lib/python3.12/dist-packages/keras/src/layers/core/embedding.py:97: UserWarning: Argument `input_length` is deprecated. Just remove it.\n",
            "  warnings.warn(\n"
          ]
        },
        {
          "output_type": "display_data",
          "data": {
            "text/plain": [
              "\u001b[1mModel: \"sequential_1\"\u001b[0m\n"
            ],
            "text/html": [
              "<pre style=\"white-space:pre;overflow-x:auto;line-height:normal;font-family:Menlo,'DejaVu Sans Mono',consolas,'Courier New',monospace\"><span style=\"font-weight: bold\">Model: \"sequential_1\"</span>\n",
              "</pre>\n"
            ]
          },
          "metadata": {}
        },
        {
          "output_type": "display_data",
          "data": {
            "text/plain": [
              "┏━━━━━━━━━━━━━━━━━━━━━━━━━━━━━━━━━┳━━━━━━━━━━━━━━━━━━━━━━━━┳━━━━━━━━━━━━━━━┓\n",
              "┃\u001b[1m \u001b[0m\u001b[1mLayer (type)                   \u001b[0m\u001b[1m \u001b[0m┃\u001b[1m \u001b[0m\u001b[1mOutput Shape          \u001b[0m\u001b[1m \u001b[0m┃\u001b[1m \u001b[0m\u001b[1m      Param #\u001b[0m\u001b[1m \u001b[0m┃\n",
              "┡━━━━━━━━━━━━━━━━━━━━━━━━━━━━━━━━━╇━━━━━━━━━━━━━━━━━━━━━━━━╇━━━━━━━━━━━━━━━┩\n",
              "│ embedding_1 (\u001b[38;5;33mEmbedding\u001b[0m)         │ ?                      │   \u001b[38;5;34m0\u001b[0m (unbuilt) │\n",
              "├─────────────────────────────────┼────────────────────────┼───────────────┤\n",
              "│ lstm_2 (\u001b[38;5;33mLSTM\u001b[0m)                   │ ?                      │   \u001b[38;5;34m0\u001b[0m (unbuilt) │\n",
              "├─────────────────────────────────┼────────────────────────┼───────────────┤\n",
              "│ lstm_3 (\u001b[38;5;33mLSTM\u001b[0m)                   │ ?                      │   \u001b[38;5;34m0\u001b[0m (unbuilt) │\n",
              "├─────────────────────────────────┼────────────────────────┼───────────────┤\n",
              "│ dense_1 (\u001b[38;5;33mDense\u001b[0m)                 │ ?                      │   \u001b[38;5;34m0\u001b[0m (unbuilt) │\n",
              "└─────────────────────────────────┴────────────────────────┴───────────────┘\n"
            ],
            "text/html": [
              "<pre style=\"white-space:pre;overflow-x:auto;line-height:normal;font-family:Menlo,'DejaVu Sans Mono',consolas,'Courier New',monospace\">┏━━━━━━━━━━━━━━━━━━━━━━━━━━━━━━━━━┳━━━━━━━━━━━━━━━━━━━━━━━━┳━━━━━━━━━━━━━━━┓\n",
              "┃<span style=\"font-weight: bold\"> Layer (type)                    </span>┃<span style=\"font-weight: bold\"> Output Shape           </span>┃<span style=\"font-weight: bold\">       Param # </span>┃\n",
              "┡━━━━━━━━━━━━━━━━━━━━━━━━━━━━━━━━━╇━━━━━━━━━━━━━━━━━━━━━━━━╇━━━━━━━━━━━━━━━┩\n",
              "│ embedding_1 (<span style=\"color: #0087ff; text-decoration-color: #0087ff\">Embedding</span>)         │ ?                      │   <span style=\"color: #00af00; text-decoration-color: #00af00\">0</span> (unbuilt) │\n",
              "├─────────────────────────────────┼────────────────────────┼───────────────┤\n",
              "│ lstm_2 (<span style=\"color: #0087ff; text-decoration-color: #0087ff\">LSTM</span>)                   │ ?                      │   <span style=\"color: #00af00; text-decoration-color: #00af00\">0</span> (unbuilt) │\n",
              "├─────────────────────────────────┼────────────────────────┼───────────────┤\n",
              "│ lstm_3 (<span style=\"color: #0087ff; text-decoration-color: #0087ff\">LSTM</span>)                   │ ?                      │   <span style=\"color: #00af00; text-decoration-color: #00af00\">0</span> (unbuilt) │\n",
              "├─────────────────────────────────┼────────────────────────┼───────────────┤\n",
              "│ dense_1 (<span style=\"color: #0087ff; text-decoration-color: #0087ff\">Dense</span>)                 │ ?                      │   <span style=\"color: #00af00; text-decoration-color: #00af00\">0</span> (unbuilt) │\n",
              "└─────────────────────────────────┴────────────────────────┴───────────────┘\n",
              "</pre>\n"
            ]
          },
          "metadata": {}
        },
        {
          "output_type": "display_data",
          "data": {
            "text/plain": [
              "\u001b[1m Total params: \u001b[0m\u001b[38;5;34m0\u001b[0m (0.00 B)\n"
            ],
            "text/html": [
              "<pre style=\"white-space:pre;overflow-x:auto;line-height:normal;font-family:Menlo,'DejaVu Sans Mono',consolas,'Courier New',monospace\"><span style=\"font-weight: bold\"> Total params: </span><span style=\"color: #00af00; text-decoration-color: #00af00\">0</span> (0.00 B)\n",
              "</pre>\n"
            ]
          },
          "metadata": {}
        },
        {
          "output_type": "display_data",
          "data": {
            "text/plain": [
              "\u001b[1m Trainable params: \u001b[0m\u001b[38;5;34m0\u001b[0m (0.00 B)\n"
            ],
            "text/html": [
              "<pre style=\"white-space:pre;overflow-x:auto;line-height:normal;font-family:Menlo,'DejaVu Sans Mono',consolas,'Courier New',monospace\"><span style=\"font-weight: bold\"> Trainable params: </span><span style=\"color: #00af00; text-decoration-color: #00af00\">0</span> (0.00 B)\n",
              "</pre>\n"
            ]
          },
          "metadata": {}
        },
        {
          "output_type": "display_data",
          "data": {
            "text/plain": [
              "\u001b[1m Non-trainable params: \u001b[0m\u001b[38;5;34m0\u001b[0m (0.00 B)\n"
            ],
            "text/html": [
              "<pre style=\"white-space:pre;overflow-x:auto;line-height:normal;font-family:Menlo,'DejaVu Sans Mono',consolas,'Courier New',monospace\"><span style=\"font-weight: bold\"> Non-trainable params: </span><span style=\"color: #00af00; text-decoration-color: #00af00\">0</span> (0.00 B)\n",
              "</pre>\n"
            ]
          },
          "metadata": {}
        }
      ],
      "source": [
        "# Build slogan classifier model\n",
        "class_model = Sequential()\n",
        "\n",
        "# Embedding layer\n",
        "class_model.add(\n",
        "    Embedding(\n",
        "        input_dim=total_words,   # vocabulary size\n",
        "        output_dim=100,          # embedding dimension\n",
        "        input_length=max_seq_len # full slogan length\n",
        "    )\n",
        ")\n",
        "\n",
        "# First LSTM layer\n",
        "class_model.add(\n",
        "    LSTM(150, return_sequences=True)\n",
        ")\n",
        "\n",
        "# Second LSTM layer\n",
        "class_model.add(\n",
        "    LSTM(100)\n",
        ")\n",
        "\n",
        "# Dense output layer (industry classification)\n",
        "class_model.add(\n",
        "    Dense(\n",
        "        num_industries,          # one unit per industry class\n",
        "        activation=\"softmax\"     # softmax gives class probabilities\n",
        "    )\n",
        ")\n",
        "\n",
        "# Model summary\n",
        "class_model.summary()\n"
      ]
    },
    {
      "cell_type": "markdown",
      "metadata": {
        "id": "QcN_hz3J63vR"
      },
      "source": [
        "In the code cell below, compile `class_model` using `categorical_crossentropy` loss, an Adam optimiser, and an appropriate metric of your choice."
      ]
    },
    {
      "cell_type": "code",
      "execution_count": 22,
      "metadata": {
        "colab": {
          "base_uri": "https://localhost:8080/"
        },
        "id": "5d2DoJ7966PM",
        "outputId": "9600597a-37bf-42c3-f11a-de2227ec6d40"
      },
      "outputs": [
        {
          "output_type": "stream",
          "name": "stdout",
          "text": [
            "class_model compiled successfully.\n"
          ]
        }
      ],
      "source": [
        "# Compile the slogan classifier model\n",
        "class_model.compile(\n",
        "    loss=\"categorical_crossentropy\",  # for multi-class classification\n",
        "    optimizer=Adam(),                 # good general optimizer for LSTM\n",
        "    metrics=[\"accuracy\"]              # track accuracy during training\n",
        ")\n",
        "\n",
        "print(\"class_model compiled successfully.\")\n"
      ]
    },
    {
      "cell_type": "markdown",
      "metadata": {
        "id": "HxtU9sLV68Lq"
      },
      "source": [
        "## Slogan Classification & Evaluation\n",
        "\n",
        "In the code cell that follows, fit the compiled model on the inputs and outputs, setting **the number of epochs to 50**."
      ]
    },
    {
      "cell_type": "code",
      "execution_count": 23,
      "metadata": {
        "colab": {
          "base_uri": "https://localhost:8080/"
        },
        "id": "TWZGMDjr7GfS",
        "outputId": "229f0d5a-1f63-421e-b5c8-ca6335a11d77"
      },
      "outputs": [
        {
          "output_type": "stream",
          "name": "stdout",
          "text": [
            "Epoch 1/50\n",
            "\u001b[1m134/134\u001b[0m \u001b[32m━━━━━━━━━━━━━━━━━━━━\u001b[0m\u001b[37m\u001b[0m \u001b[1m13s\u001b[0m 60ms/step - accuracy: 0.0711 - loss: 4.5222 - val_accuracy: 0.0843 - val_loss: 4.2834\n",
            "Epoch 2/50\n",
            "\u001b[1m134/134\u001b[0m \u001b[32m━━━━━━━━━━━━━━━━━━━━\u001b[0m\u001b[37m\u001b[0m \u001b[1m9s\u001b[0m 65ms/step - accuracy: 0.0798 - loss: 4.2728 - val_accuracy: 0.0843 - val_loss: 4.2736\n",
            "Epoch 3/50\n",
            "\u001b[1m134/134\u001b[0m \u001b[32m━━━━━━━━━━━━━━━━━━━━\u001b[0m\u001b[37m\u001b[0m \u001b[1m7s\u001b[0m 53ms/step - accuracy: 0.0861 - loss: 4.2767 - val_accuracy: 0.0880 - val_loss: 4.1668\n",
            "Epoch 4/50\n",
            "\u001b[1m134/134\u001b[0m \u001b[32m━━━━━━━━━━━━━━━━━━━━\u001b[0m\u001b[37m\u001b[0m \u001b[1m9s\u001b[0m 65ms/step - accuracy: 0.1069 - loss: 3.9933 - val_accuracy: 0.1067 - val_loss: 4.0735\n",
            "Epoch 5/50\n",
            "\u001b[1m134/134\u001b[0m \u001b[32m━━━━━━━━━━━━━━━━━━━━\u001b[0m\u001b[37m\u001b[0m \u001b[1m9s\u001b[0m 56ms/step - accuracy: 0.1463 - loss: 3.7441 - val_accuracy: 0.1545 - val_loss: 3.9082\n",
            "Epoch 6/50\n",
            "\u001b[1m134/134\u001b[0m \u001b[32m━━━━━━━━━━━━━━━━━━━━\u001b[0m\u001b[37m\u001b[0m \u001b[1m8s\u001b[0m 58ms/step - accuracy: 0.2579 - loss: 3.2458 - val_accuracy: 0.1742 - val_loss: 3.8904\n",
            "Epoch 7/50\n",
            "\u001b[1m134/134\u001b[0m \u001b[32m━━━━━━━━━━━━━━━━━━━━\u001b[0m\u001b[37m\u001b[0m \u001b[1m9s\u001b[0m 65ms/step - accuracy: 0.3368 - loss: 2.7952 - val_accuracy: 0.1845 - val_loss: 3.9313\n",
            "Epoch 8/50\n",
            "\u001b[1m134/134\u001b[0m \u001b[32m━━━━━━━━━━━━━━━━━━━━\u001b[0m\u001b[37m\u001b[0m \u001b[1m7s\u001b[0m 51ms/step - accuracy: 0.4380 - loss: 2.4035 - val_accuracy: 0.1938 - val_loss: 4.0750\n",
            "Epoch 9/50\n",
            "\u001b[1m134/134\u001b[0m \u001b[32m━━━━━━━━━━━━━━━━━━━━\u001b[0m\u001b[37m\u001b[0m \u001b[1m9s\u001b[0m 66ms/step - accuracy: 0.5268 - loss: 2.0310 - val_accuracy: 0.1910 - val_loss: 4.2363\n",
            "Epoch 10/50\n",
            "\u001b[1m134/134\u001b[0m \u001b[32m━━━━━━━━━━━━━━━━━━━━\u001b[0m\u001b[37m\u001b[0m \u001b[1m7s\u001b[0m 52ms/step - accuracy: 0.5982 - loss: 1.7431 - val_accuracy: 0.2041 - val_loss: 4.3583\n",
            "Epoch 11/50\n",
            "\u001b[1m134/134\u001b[0m \u001b[32m━━━━━━━━━━━━━━━━━━━━\u001b[0m\u001b[37m\u001b[0m \u001b[1m10s\u001b[0m 54ms/step - accuracy: 0.6507 - loss: 1.4907 - val_accuracy: 0.1976 - val_loss: 4.5254\n",
            "Epoch 12/50\n",
            "\u001b[1m134/134\u001b[0m \u001b[32m━━━━━━━━━━━━━━━━━━━━\u001b[0m\u001b[37m\u001b[0m \u001b[1m12s\u001b[0m 65ms/step - accuracy: 0.7205 - loss: 1.2531 - val_accuracy: 0.1854 - val_loss: 4.6737\n",
            "Epoch 13/50\n",
            "\u001b[1m134/134\u001b[0m \u001b[32m━━━━━━━━━━━━━━━━━━━━\u001b[0m\u001b[37m\u001b[0m \u001b[1m8s\u001b[0m 58ms/step - accuracy: 0.7536 - loss: 1.0796 - val_accuracy: 0.2041 - val_loss: 4.8252\n",
            "Epoch 14/50\n",
            "\u001b[1m134/134\u001b[0m \u001b[32m━━━━━━━━━━━━━━━━━━━━\u001b[0m\u001b[37m\u001b[0m \u001b[1m9s\u001b[0m 52ms/step - accuracy: 0.7900 - loss: 0.9480 - val_accuracy: 0.1938 - val_loss: 5.0086\n",
            "Epoch 15/50\n",
            "\u001b[1m134/134\u001b[0m \u001b[32m━━━━━━━━━━━━━━━━━━━━\u001b[0m\u001b[37m\u001b[0m \u001b[1m11s\u001b[0m 55ms/step - accuracy: 0.8309 - loss: 0.8068 - val_accuracy: 0.1845 - val_loss: 5.1009\n",
            "Epoch 16/50\n",
            "\u001b[1m134/134\u001b[0m \u001b[32m━━━━━━━━━━━━━━━━━━━━\u001b[0m\u001b[37m\u001b[0m \u001b[1m9s\u001b[0m 65ms/step - accuracy: 0.8555 - loss: 0.7141 - val_accuracy: 0.1873 - val_loss: 5.2783\n",
            "Epoch 17/50\n",
            "\u001b[1m134/134\u001b[0m \u001b[32m━━━━━━━━━━━━━━━━━━━━\u001b[0m\u001b[37m\u001b[0m \u001b[1m7s\u001b[0m 50ms/step - accuracy: 0.8898 - loss: 0.5959 - val_accuracy: 0.1910 - val_loss: 5.3625\n",
            "Epoch 18/50\n",
            "\u001b[1m134/134\u001b[0m \u001b[32m━━━━━━━━━━━━━━━━━━━━\u001b[0m\u001b[37m\u001b[0m \u001b[1m9s\u001b[0m 65ms/step - accuracy: 0.8981 - loss: 0.5325 - val_accuracy: 0.1760 - val_loss: 5.5105\n",
            "Epoch 19/50\n",
            "\u001b[1m134/134\u001b[0m \u001b[32m━━━━━━━━━━━━━━━━━━━━\u001b[0m\u001b[37m\u001b[0m \u001b[1m8s\u001b[0m 51ms/step - accuracy: 0.9145 - loss: 0.4649 - val_accuracy: 0.1798 - val_loss: 5.6088\n",
            "Epoch 20/50\n",
            "\u001b[1m134/134\u001b[0m \u001b[32m━━━━━━━━━━━━━━━━━━━━\u001b[0m\u001b[37m\u001b[0m \u001b[1m9s\u001b[0m 64ms/step - accuracy: 0.9140 - loss: 0.4404 - val_accuracy: 0.1798 - val_loss: 5.7338\n",
            "Epoch 21/50\n",
            "\u001b[1m134/134\u001b[0m \u001b[32m━━━━━━━━━━━━━━━━━━━━\u001b[0m\u001b[37m\u001b[0m \u001b[1m8s\u001b[0m 62ms/step - accuracy: 0.9429 - loss: 0.3346 - val_accuracy: 0.1807 - val_loss: 5.8372\n",
            "Epoch 22/50\n",
            "\u001b[1m134/134\u001b[0m \u001b[32m━━━━━━━━━━━━━━━━━━━━\u001b[0m\u001b[37m\u001b[0m \u001b[1m7s\u001b[0m 53ms/step - accuracy: 0.9524 - loss: 0.2985 - val_accuracy: 0.1845 - val_loss: 5.9719\n",
            "Epoch 23/50\n",
            "\u001b[1m134/134\u001b[0m \u001b[32m━━━━━━━━━━━━━━━━━━━━\u001b[0m\u001b[37m\u001b[0m \u001b[1m9s\u001b[0m 65ms/step - accuracy: 0.9531 - loss: 0.2613 - val_accuracy: 0.1910 - val_loss: 6.0781\n",
            "Epoch 24/50\n",
            "\u001b[1m134/134\u001b[0m \u001b[32m━━━━━━━━━━━━━━━━━━━━\u001b[0m\u001b[37m\u001b[0m \u001b[1m7s\u001b[0m 52ms/step - accuracy: 0.9613 - loss: 0.2308 - val_accuracy: 0.1938 - val_loss: 6.1427\n",
            "Epoch 25/50\n",
            "\u001b[1m134/134\u001b[0m \u001b[32m━━━━━━━━━━━━━━━━━━━━\u001b[0m\u001b[37m\u001b[0m \u001b[1m9s\u001b[0m 65ms/step - accuracy: 0.9695 - loss: 0.1966 - val_accuracy: 0.1919 - val_loss: 6.2515\n",
            "Epoch 26/50\n",
            "\u001b[1m134/134\u001b[0m \u001b[32m━━━━━━━━━━━━━━━━━━━━\u001b[0m\u001b[37m\u001b[0m \u001b[1m7s\u001b[0m 51ms/step - accuracy: 0.9705 - loss: 0.1699 - val_accuracy: 0.1854 - val_loss: 6.3632\n",
            "Epoch 27/50\n",
            "\u001b[1m134/134\u001b[0m \u001b[32m━━━━━━━━━━━━━━━━━━━━\u001b[0m\u001b[37m\u001b[0m \u001b[1m10s\u001b[0m 50ms/step - accuracy: 0.9803 - loss: 0.1466 - val_accuracy: 0.1760 - val_loss: 6.3776\n",
            "Epoch 28/50\n",
            "\u001b[1m134/134\u001b[0m \u001b[32m━━━━━━━━━━━━━━━━━━━━\u001b[0m\u001b[37m\u001b[0m \u001b[1m9s\u001b[0m 65ms/step - accuracy: 0.9764 - loss: 0.1555 - val_accuracy: 0.1873 - val_loss: 6.5094\n",
            "Epoch 29/50\n",
            "\u001b[1m134/134\u001b[0m \u001b[32m━━━━━━━━━━━━━━━━━━━━\u001b[0m\u001b[37m\u001b[0m \u001b[1m7s\u001b[0m 50ms/step - accuracy: 0.9802 - loss: 0.1193 - val_accuracy: 0.1845 - val_loss: 6.5958\n",
            "Epoch 30/50\n",
            "\u001b[1m134/134\u001b[0m \u001b[32m━━━━━━━━━━━━━━━━━━━━\u001b[0m\u001b[37m\u001b[0m \u001b[1m9s\u001b[0m 65ms/step - accuracy: 0.9867 - loss: 0.1047 - val_accuracy: 0.1826 - val_loss: 6.7212\n",
            "Epoch 31/50\n",
            "\u001b[1m134/134\u001b[0m \u001b[32m━━━━━━━━━━━━━━━━━━━━\u001b[0m\u001b[37m\u001b[0m \u001b[1m7s\u001b[0m 50ms/step - accuracy: 0.9880 - loss: 0.0927 - val_accuracy: 0.1798 - val_loss: 6.7935\n",
            "Epoch 32/50\n",
            "\u001b[1m134/134\u001b[0m \u001b[32m━━━━━━━━━━━━━━━━━━━━\u001b[0m\u001b[37m\u001b[0m \u001b[1m9s\u001b[0m 64ms/step - accuracy: 0.9910 - loss: 0.0715 - val_accuracy: 0.1854 - val_loss: 6.8632\n",
            "Epoch 33/50\n",
            "\u001b[1m134/134\u001b[0m \u001b[32m━━━━━━━━━━━━━━━━━━━━\u001b[0m\u001b[37m\u001b[0m \u001b[1m8s\u001b[0m 60ms/step - accuracy: 0.9947 - loss: 0.0626 - val_accuracy: 0.1816 - val_loss: 6.9545\n",
            "Epoch 34/50\n",
            "\u001b[1m134/134\u001b[0m \u001b[32m━━━━━━━━━━━━━━━━━━━━\u001b[0m\u001b[37m\u001b[0m \u001b[1m8s\u001b[0m 57ms/step - accuracy: 0.9906 - loss: 0.0607 - val_accuracy: 0.1816 - val_loss: 7.0473\n",
            "Epoch 35/50\n",
            "\u001b[1m134/134\u001b[0m \u001b[32m━━━━━━━━━━━━━━━━━━━━\u001b[0m\u001b[37m\u001b[0m \u001b[1m9s\u001b[0m 66ms/step - accuracy: 0.9920 - loss: 0.0566 - val_accuracy: 0.1845 - val_loss: 7.0815\n",
            "Epoch 36/50\n",
            "\u001b[1m134/134\u001b[0m \u001b[32m━━━━━━━━━━━━━━━━━━━━\u001b[0m\u001b[37m\u001b[0m \u001b[1m7s\u001b[0m 52ms/step - accuracy: 0.9872 - loss: 0.0725 - val_accuracy: 0.1723 - val_loss: 7.0592\n",
            "Epoch 37/50\n",
            "\u001b[1m134/134\u001b[0m \u001b[32m━━━━━━━━━━━━━━━━━━━━\u001b[0m\u001b[37m\u001b[0m \u001b[1m9s\u001b[0m 66ms/step - accuracy: 0.9831 - loss: 0.0951 - val_accuracy: 0.1770 - val_loss: 7.2023\n",
            "Epoch 38/50\n",
            "\u001b[1m134/134\u001b[0m \u001b[32m━━━━━━━━━━━━━━━━━━━━\u001b[0m\u001b[37m\u001b[0m \u001b[1m7s\u001b[0m 51ms/step - accuracy: 0.9767 - loss: 0.1301 - val_accuracy: 0.1732 - val_loss: 7.1492\n",
            "Epoch 39/50\n",
            "\u001b[1m134/134\u001b[0m \u001b[32m━━━━━━━━━━━━━━━━━━━━\u001b[0m\u001b[37m\u001b[0m \u001b[1m9s\u001b[0m 66ms/step - accuracy: 0.9836 - loss: 0.0989 - val_accuracy: 0.1676 - val_loss: 7.2650\n",
            "Epoch 40/50\n",
            "\u001b[1m134/134\u001b[0m \u001b[32m━━━━━━━━━━━━━━━━━━━━\u001b[0m\u001b[37m\u001b[0m \u001b[1m8s\u001b[0m 57ms/step - accuracy: 0.9901 - loss: 0.0657 - val_accuracy: 0.1704 - val_loss: 7.2900\n",
            "Epoch 41/50\n",
            "\u001b[1m134/134\u001b[0m \u001b[32m━━━━━━━━━━━━━━━━━━━━\u001b[0m\u001b[37m\u001b[0m \u001b[1m8s\u001b[0m 58ms/step - accuracy: 0.9951 - loss: 0.0409 - val_accuracy: 0.1826 - val_loss: 7.4525\n",
            "Epoch 42/50\n",
            "\u001b[1m134/134\u001b[0m \u001b[32m━━━━━━━━━━━━━━━━━━━━\u001b[0m\u001b[37m\u001b[0m \u001b[1m9s\u001b[0m 66ms/step - accuracy: 0.9959 - loss: 0.0342 - val_accuracy: 0.1770 - val_loss: 7.4989\n",
            "Epoch 43/50\n",
            "\u001b[1m134/134\u001b[0m \u001b[32m━━━━━━━━━━━━━━━━━━━━\u001b[0m\u001b[37m\u001b[0m \u001b[1m7s\u001b[0m 52ms/step - accuracy: 0.9964 - loss: 0.0246 - val_accuracy: 0.1807 - val_loss: 7.5579\n",
            "Epoch 44/50\n",
            "\u001b[1m134/134\u001b[0m \u001b[32m━━━━━━━━━━━━━━━━━━━━\u001b[0m\u001b[37m\u001b[0m \u001b[1m9s\u001b[0m 67ms/step - accuracy: 0.9925 - loss: 0.0285 - val_accuracy: 0.1732 - val_loss: 7.6107\n",
            "Epoch 45/50\n",
            "\u001b[1m134/134\u001b[0m \u001b[32m━━━━━━━━━━━━━━━━━━━━\u001b[0m\u001b[37m\u001b[0m \u001b[1m7s\u001b[0m 52ms/step - accuracy: 0.9960 - loss: 0.0209 - val_accuracy: 0.1816 - val_loss: 7.6634\n",
            "Epoch 46/50\n",
            "\u001b[1m134/134\u001b[0m \u001b[32m━━━━━━━━━━━━━━━━━━━━\u001b[0m\u001b[37m\u001b[0m \u001b[1m9s\u001b[0m 65ms/step - accuracy: 0.9969 - loss: 0.0184 - val_accuracy: 0.1760 - val_loss: 7.7355\n",
            "Epoch 47/50\n",
            "\u001b[1m134/134\u001b[0m \u001b[32m━━━━━━━━━━━━━━━━━━━━\u001b[0m\u001b[37m\u001b[0m \u001b[1m7s\u001b[0m 54ms/step - accuracy: 0.9964 - loss: 0.0193 - val_accuracy: 0.1732 - val_loss: 7.7714\n",
            "Epoch 48/50\n",
            "\u001b[1m134/134\u001b[0m \u001b[32m━━━━━━━━━━━━━━━━━━━━\u001b[0m\u001b[37m\u001b[0m \u001b[1m8s\u001b[0m 61ms/step - accuracy: 0.9970 - loss: 0.0153 - val_accuracy: 0.1788 - val_loss: 7.8172\n",
            "Epoch 49/50\n",
            "\u001b[1m134/134\u001b[0m \u001b[32m━━━━━━━━━━━━━━━━━━━━\u001b[0m\u001b[37m\u001b[0m \u001b[1m11s\u001b[0m 65ms/step - accuracy: 0.9966 - loss: 0.0146 - val_accuracy: 0.1798 - val_loss: 7.8666\n",
            "Epoch 50/50\n",
            "\u001b[1m134/134\u001b[0m \u001b[32m━━━━━━━━━━━━━━━━━━━━\u001b[0m\u001b[37m\u001b[0m \u001b[1m7s\u001b[0m 51ms/step - accuracy: 0.9977 - loss: 0.0136 - val_accuracy: 0.1779 - val_loss: 7.9054\n"
          ]
        }
      ],
      "source": [
        "# Train the slogan classifier model\n",
        "history_class = class_model.fit(\n",
        "    X_train,\n",
        "    y_train,\n",
        "    epochs=50,\n",
        "    validation_data=(X_test, y_test),\n",
        "    verbose=1\n",
        ")\n"
      ]
    },
    {
      "cell_type": "markdown",
      "source": [
        "Evaluate the model using the testing set. Add a comment on the model's performance.\n",
        "\n",
        "The model achieved around 18–20% accuracy on the test set, which is relatively low compared to its near-perfect training accuracy.\n",
        "This indicates overfitting, meaning the model learned the training slogans too specifically and struggled to generalize to new data.\n",
        "Improving performance could involve adding dropout layers, using fewer LSTM units, training for fewer epochs, or collecting more diverse slogans per industry.\n"
      ],
      "metadata": {
        "id": "rcUAbuO0TcXF"
      }
    },
    {
      "cell_type": "markdown",
      "source": [
        "We will now define a function called `classify_slogan` which takes a slogan as input and predicts the industry it belongs to using the trained model, `class_model`.  \n",
        "\n",
        "Carefully follow the code below and complete the missing parts (indicated by ellipses) as guided by the comments."
      ],
      "metadata": {
        "id": "v1iI3aQgToZB"
      }
    },
    {
      "cell_type": "code",
      "source": [
        "def classify_slogan(slogan):\n",
        "    # Use the preprocess_text to clean the input slogan (we defined this function in the preprocessing section)\n",
        "    slogan = preprocess_text(slogan)\n",
        "\n",
        "    # Converting the slogan to a sequence of indices\n",
        "    sequence = tokenizer.texts_to_sequences([slogan])\n",
        "\n",
        "    # Pad the sequence using the pad_sequences() function\n",
        "    padded_sequence = pad_sequences(sequence, maxlen=max_seq_len, padding=\"pre\")\n",
        "\n",
        "    # Pass padded_sequence into the class_model to get the predicted probabilities for each industry\n",
        "    prediction = class_model.predict(padded_sequence, verbose=0)\n",
        "\n",
        "    # Use np.argmax() to get the index of the industry with the highest probability.\n",
        "    predicted_index = np.argmax(prediction, axis=1)[0]\n",
        "\n",
        "    # Return the predicted industry\n",
        "    return industries[predicted_index]\n"
      ],
      "metadata": {
        "id": "gjHe7lwmTu91"
      },
      "execution_count": 25,
      "outputs": []
    },
    {
      "cell_type": "markdown",
      "source": [
        "## Combining the two models\n",
        "\n",
        "Run the code cell below to combine the two models: we will first generate a slogan for a company in the \"internet\" industry, then pass the generated slogan to the slogan classifier to see if it correctly classifies it as internet."
      ],
      "metadata": {
        "id": "NfImuBO9T5cY"
      }
    },
    {
      "cell_type": "code",
      "source": [
        "# Combine the generator and classifier models\n",
        "\n",
        "industry = \"internet\"  # you can change this to any industry in your dataset\n",
        "\n",
        "# Generate a slogan using the trained generator model\n",
        "generated_slogan = generate_slogan(industry)\n",
        "\n",
        "# Classify the generated slogan using the trained classifier model\n",
        "predicted_industry = classify_slogan(generated_slogan)\n",
        "\n",
        "# Display results\n",
        "print(f\"Generated Slogan: {generated_slogan}\")\n",
        "print(f\"Predicted Industry: {predicted_industry}\")\n",
        "\n",
        "# Improving Slogan Generation\n",
        "import numpy as np\n",
        "\n",
        "def sample_from_probs(probs, temperature=1.0, top_k=20):\n",
        "    # Apply temperature scaling\n",
        "    if temperature != 1.0:\n",
        "        probs = np.log(probs + 1e-9) / temperature\n",
        "        probs = np.exp(probs) / np.sum(np.exp(probs))\n",
        "    # Keep only top-k most likely words\n",
        "    if top_k and top_k < len(probs):\n",
        "        idxs = np.argpartition(probs, -top_k)[-top_k:]\n",
        "        mask = np.zeros_like(probs)\n",
        "        mask[idxs] = probs[idxs]\n",
        "        probs = mask / (mask.sum() + 1e-12)\n",
        "    return np.random.choice(len(probs), p=probs)\n",
        "\n",
        "def generate_slogan_better(seed_text, max_words=12, temperature=0.9, top_k=30):\n",
        "    text_out = seed_text.strip().lower()\n",
        "    used = set(text_out.split())\n",
        "\n",
        "    for _ in range(max_words):\n",
        "        seq = tokenizer.texts_to_sequences([text_out])[0]\n",
        "        seq = pad_sequences([seq], maxlen=max_seq_len-1, padding=\"pre\")\n",
        "\n",
        "        probs = gen_model.predict(seq, verbose=0)[0]\n",
        "        probs[0] = 0.0  # ignore padding index\n",
        "\n",
        "        next_idx = sample_from_probs(probs, temperature=temperature, top_k=top_k)\n",
        "\n",
        "        word = None\n",
        "        for w, i in tokenizer.word_index.items():\n",
        "            if i == next_idx:\n",
        "                word = w\n",
        "                break\n",
        "        if not word:\n",
        "            break\n",
        "\n",
        "        if word in used:\n",
        "            continue\n",
        "        used.add(word)\n",
        "\n",
        "        text_out += \" \" + word\n",
        "\n",
        "        if word in {\".\", \"!\", \"?\"}:\n",
        "            break\n",
        "\n",
        "    return text_out\n",
        "\n",
        "def clean_generated(s):\n",
        "    bad = {\"vadodara\", \"mumbai\", \"virginia\", \"florida\", \"county\"}\n",
        "    words = [w for w in s.split() if w.isalpha() and w not in bad]\n",
        "    return \" \".join(words)\n",
        "\n",
        "def generate_until_classified(industry, tries=10):\n",
        "    best = None\n",
        "    for _ in range(tries):\n",
        "        g = generate_slogan_better(industry, temperature=0.9, top_k=40)\n",
        "        g = clean_generated(g)\n",
        "        pred = classify_slogan(g)\n",
        "        if pred == industry:\n",
        "            return g, pred\n",
        "        if best is None:\n",
        "            best = (g, pred)\n",
        "    return best  # return best attempt\n",
        "\n",
        "generated, predicted = generate_until_classified(\"internet\", tries=10)\n",
        "print(\"Generated Slogan:\", generated)\n",
        "print(\"Predicted Industry:\", predicted)\n"
      ],
      "metadata": {
        "colab": {
          "base_uri": "https://localhost:8080/"
        },
        "id": "oZ_iMOh-T6ba",
        "outputId": "739c37b2-e2ee-401c-8598-f5ca10d02b69"
      },
      "execution_count": 34,
      "outputs": [
        {
          "output_type": "stream",
          "name": "stdout",
          "text": [
            "Generated Slogan: internet web design and digital marketing agency in vadodara brighton virginia mumbai results county florida biologists vehicles selling laser imports for\n",
            "Predicted Industry: apparel & fashion\n",
            "Generated Slogan: internet web development digital marketing agency newcastle seo\n",
            "Predicted Industry: internet\n"
          ]
        }
      ]
    },
    {
      "cell_type": "markdown",
      "source": [
        "The improved generator now produces shorter, more relevant slogans by using temperature-based sampling and top-k filtering. This helps reduce repetition and random place names, resulting in more industry-specific outputs."
      ],
      "metadata": {
        "id": "P4zRbUXddaOR"
      }
    }
  ],
  "metadata": {
    "colab": {
      "provenance": [],
      "authorship_tag": "ABX9TyOyTIbi2l+++b1yUaj443xr",
      "include_colab_link": true
    },
    "kernelspec": {
      "display_name": "Python 3",
      "name": "python3"
    },
    "language_info": {
      "name": "python"
    }
  },
  "nbformat": 4,
  "nbformat_minor": 0
}